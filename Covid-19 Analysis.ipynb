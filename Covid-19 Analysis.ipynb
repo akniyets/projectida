{
 "cells": [
  {
   "cell_type": "markdown",
   "metadata": {},
   "source": [
    "# Analysis of Novel Coronavirus 2019 "
   ]
  },
  {
   "cell_type": "markdown",
   "metadata": {},
   "source": [
    "### Content\n",
    "+ Introduction: Novel coronavirus 2019\n",
    "+ Data description\n",
    "+ Research questions\n",
    "+ Data preparation: cleaning and shaping\n",
    "+ Data visualization"
   ]
  },
  {
   "cell_type": "markdown",
   "metadata": {},
   "source": [
    "## 1. Introduction: COVID-19"
   ]
  },
  {
   "cell_type": "markdown",
   "metadata": {},
   "source": [
    "2019-nCoV or COVID-19 (2019 Novel Coronavirus) is a virus identified as the cause of an outbreak of respiratory illness first detected in Wuhan, China. Early on, many of the patients in the outbreak in Wuhan, China reportedly had some link to a large seafood and animal market, suggesting animal-to-person spread. However, a growing number of patients reportedly have not had exposure to animal markets, indicating person-to-person spread is occurring. At this time, it’s unclear how easily or sustainably this virus is spreading between people.\n",
    "\n",
    "There is an ongoing investigation to determine more about this outbreak. This is a rapidly evolving situation and information will be updated as it becomes available. The latest situation summary updates are available on CDC’s web page for COVID-19."
   ]
  },
  {
   "cell_type": "markdown",
   "metadata": {},
   "source": [
    "Source(https://www.cdc.gov/library/researchguides/2019NovelCoronavirus.html)"
   ]
  },
  {
   "cell_type": "markdown",
   "metadata": {},
   "source": [
    "## 2. Data description"
   ]
  },
  {
   "cell_type": "markdown",
   "metadata": {},
   "source": [
    "This dataset has daily level information on the number of affected cases, deaths and recovery from 2019 novel coronavirus. Please note that this is a time series data and so the number of cases on any given day is the cumulative number.\n",
    "\n",
    "The data is available from 22 Jan, 2020.\n",
    "\n",
    "The detailed description of the variables in this dataset is below:\n",
    "+ Sno - Serial number\n",
    "+ ObservationDate - Date of the observation in MM/DD/YYYY\n",
    "+ Province/State - Province or state of the observation (Could be empty when missing)\n",
    "+ Country/Region - Country of observation\n",
    "+ Last Update - Time in UTC at which the row is updated for the given province or country. (Not standardised and so please clean before using it)\n",
    "+ Confirmed - Cumulative number of confirmed cases till that date\n",
    "+ Deaths - Cumulative number of of deaths till that date\n",
    "+ Recovered - Cumulative number of recovered cases till that date"
   ]
  },
  {
   "cell_type": "markdown",
   "metadata": {},
   "source": [
    "## 3. Research questions"
   ]
  },
  {
   "cell_type": "markdown",
   "metadata": {},
   "source": [
    "Research questions for the project:\n",
    "1. Analyze daily information about cases of coronavirus by period of time\n",
    "2. Analyze the most frequent regions in the list\n",
    "3. Analyze ratio of the number of deaths to recovered cases\n",
    "4. Analyze daily change of confirmed cases by regions\n",
    "5. Analyze relation between variables in the dataset "
   ]
  },
  {
   "cell_type": "markdown",
   "metadata": {},
   "source": [
    "## 4. Data preparation: cleaning and shaping"
   ]
  },
  {
   "cell_type": "code",
   "execution_count": 48,
   "metadata": {},
   "outputs": [],
   "source": [
    "# import modules\n",
    "import numpy as np\n",
    "import pandas as pd\n",
    "import matplotlib.pyplot as plot\n",
    "import seaborn as sns"
   ]
  },
  {
   "cell_type": "code",
   "execution_count": 49,
   "metadata": {},
   "outputs": [],
   "source": [
    "# import dataset\n",
    "cov = pd.read_csv('covid_19_data.csv')"
   ]
  },
  {
   "cell_type": "code",
   "execution_count": 50,
   "metadata": {},
   "outputs": [
    {
     "name": "stdout",
     "output_type": "stream",
     "text": [
      "<class 'pandas.core.frame.DataFrame'>\n",
      "RangeIndex: 116805 entries, 0 to 116804\n",
      "Data columns (total 8 columns):\n",
      " #   Column           Non-Null Count   Dtype  \n",
      "---  ------           --------------   -----  \n",
      " 0   SNo              116805 non-null  int64  \n",
      " 1   ObservationDate  116805 non-null  object \n",
      " 2   Province/State   81452 non-null   object \n",
      " 3   Country/Region   116805 non-null  object \n",
      " 4   Last Update      116805 non-null  object \n",
      " 5   Confirmed        116805 non-null  float64\n",
      " 6   Deaths           116805 non-null  float64\n",
      " 7   Recovered        116805 non-null  float64\n",
      "dtypes: float64(3), int64(1), object(4)\n",
      "memory usage: 7.1+ MB\n"
     ]
    }
   ],
   "source": [
    "# number of rows, columns, data types, memory usage information\n",
    "cov.info()"
   ]
  },
  {
   "cell_type": "markdown",
   "metadata": {},
   "source": [
    "So we obtain the following information:\n",
    "1. There are 116805 records and 8 columns\n",
    "2. There are missing values in Province/State column"
   ]
  },
  {
   "cell_type": "code",
   "execution_count": 51,
   "metadata": {},
   "outputs": [],
   "source": [
    "# dropping\n",
    "cov = cov.dropna()"
   ]
  },
  {
   "cell_type": "code",
   "execution_count": 52,
   "metadata": {},
   "outputs": [
    {
     "data": {
      "text/html": [
       "<div>\n",
       "<style scoped>\n",
       "    .dataframe tbody tr th:only-of-type {\n",
       "        vertical-align: middle;\n",
       "    }\n",
       "\n",
       "    .dataframe tbody tr th {\n",
       "        vertical-align: top;\n",
       "    }\n",
       "\n",
       "    .dataframe thead th {\n",
       "        text-align: right;\n",
       "    }\n",
       "</style>\n",
       "<table border=\"1\" class=\"dataframe\">\n",
       "  <thead>\n",
       "    <tr style=\"text-align: right;\">\n",
       "      <th></th>\n",
       "      <th>SNo</th>\n",
       "      <th>ObservationDate</th>\n",
       "      <th>Province/State</th>\n",
       "      <th>Country/Region</th>\n",
       "      <th>Last Update</th>\n",
       "      <th>Confirmed</th>\n",
       "      <th>Deaths</th>\n",
       "      <th>Recovered</th>\n",
       "    </tr>\n",
       "  </thead>\n",
       "  <tbody>\n",
       "    <tr>\n",
       "      <th>0</th>\n",
       "      <td>1</td>\n",
       "      <td>01/22/2020</td>\n",
       "      <td>Anhui</td>\n",
       "      <td>Mainland China</td>\n",
       "      <td>1/22/2020 17:00</td>\n",
       "      <td>1.0</td>\n",
       "      <td>0.0</td>\n",
       "      <td>0.0</td>\n",
       "    </tr>\n",
       "    <tr>\n",
       "      <th>1</th>\n",
       "      <td>2</td>\n",
       "      <td>01/22/2020</td>\n",
       "      <td>Beijing</td>\n",
       "      <td>Mainland China</td>\n",
       "      <td>1/22/2020 17:00</td>\n",
       "      <td>14.0</td>\n",
       "      <td>0.0</td>\n",
       "      <td>0.0</td>\n",
       "    </tr>\n",
       "    <tr>\n",
       "      <th>2</th>\n",
       "      <td>3</td>\n",
       "      <td>01/22/2020</td>\n",
       "      <td>Chongqing</td>\n",
       "      <td>Mainland China</td>\n",
       "      <td>1/22/2020 17:00</td>\n",
       "      <td>6.0</td>\n",
       "      <td>0.0</td>\n",
       "      <td>0.0</td>\n",
       "    </tr>\n",
       "    <tr>\n",
       "      <th>3</th>\n",
       "      <td>4</td>\n",
       "      <td>01/22/2020</td>\n",
       "      <td>Fujian</td>\n",
       "      <td>Mainland China</td>\n",
       "      <td>1/22/2020 17:00</td>\n",
       "      <td>1.0</td>\n",
       "      <td>0.0</td>\n",
       "      <td>0.0</td>\n",
       "    </tr>\n",
       "    <tr>\n",
       "      <th>4</th>\n",
       "      <td>5</td>\n",
       "      <td>01/22/2020</td>\n",
       "      <td>Gansu</td>\n",
       "      <td>Mainland China</td>\n",
       "      <td>1/22/2020 17:00</td>\n",
       "      <td>0.0</td>\n",
       "      <td>0.0</td>\n",
       "      <td>0.0</td>\n",
       "    </tr>\n",
       "    <tr>\n",
       "      <th>...</th>\n",
       "      <td>...</td>\n",
       "      <td>...</td>\n",
       "      <td>...</td>\n",
       "      <td>...</td>\n",
       "      <td>...</td>\n",
       "      <td>...</td>\n",
       "      <td>...</td>\n",
       "      <td>...</td>\n",
       "    </tr>\n",
       "    <tr>\n",
       "      <th>116800</th>\n",
       "      <td>116801</td>\n",
       "      <td>09/23/2020</td>\n",
       "      <td>Zaporizhia Oblast</td>\n",
       "      <td>Ukraine</td>\n",
       "      <td>2020-09-24 04:23:38</td>\n",
       "      <td>3149.0</td>\n",
       "      <td>49.0</td>\n",
       "      <td>1158.0</td>\n",
       "    </tr>\n",
       "    <tr>\n",
       "      <th>116801</th>\n",
       "      <td>116802</td>\n",
       "      <td>09/23/2020</td>\n",
       "      <td>Zeeland</td>\n",
       "      <td>Netherlands</td>\n",
       "      <td>2020-09-24 04:23:38</td>\n",
       "      <td>1270.0</td>\n",
       "      <td>72.0</td>\n",
       "      <td>0.0</td>\n",
       "    </tr>\n",
       "    <tr>\n",
       "      <th>116802</th>\n",
       "      <td>116803</td>\n",
       "      <td>09/23/2020</td>\n",
       "      <td>Zhejiang</td>\n",
       "      <td>Mainland China</td>\n",
       "      <td>2020-09-24 04:23:38</td>\n",
       "      <td>1282.0</td>\n",
       "      <td>1.0</td>\n",
       "      <td>1272.0</td>\n",
       "    </tr>\n",
       "    <tr>\n",
       "      <th>116803</th>\n",
       "      <td>116804</td>\n",
       "      <td>09/23/2020</td>\n",
       "      <td>Zhytomyr Oblast</td>\n",
       "      <td>Ukraine</td>\n",
       "      <td>2020-09-24 04:23:38</td>\n",
       "      <td>5191.0</td>\n",
       "      <td>92.0</td>\n",
       "      <td>2853.0</td>\n",
       "    </tr>\n",
       "    <tr>\n",
       "      <th>116804</th>\n",
       "      <td>116805</td>\n",
       "      <td>09/23/2020</td>\n",
       "      <td>Zuid-Holland</td>\n",
       "      <td>Netherlands</td>\n",
       "      <td>2020-09-24 04:23:38</td>\n",
       "      <td>29513.0</td>\n",
       "      <td>1372.0</td>\n",
       "      <td>0.0</td>\n",
       "    </tr>\n",
       "  </tbody>\n",
       "</table>\n",
       "<p>81452 rows × 8 columns</p>\n",
       "</div>"
      ],
      "text/plain": [
       "           SNo ObservationDate     Province/State  Country/Region  \\\n",
       "0            1      01/22/2020              Anhui  Mainland China   \n",
       "1            2      01/22/2020            Beijing  Mainland China   \n",
       "2            3      01/22/2020          Chongqing  Mainland China   \n",
       "3            4      01/22/2020             Fujian  Mainland China   \n",
       "4            5      01/22/2020              Gansu  Mainland China   \n",
       "...        ...             ...                ...             ...   \n",
       "116800  116801      09/23/2020  Zaporizhia Oblast         Ukraine   \n",
       "116801  116802      09/23/2020            Zeeland     Netherlands   \n",
       "116802  116803      09/23/2020           Zhejiang  Mainland China   \n",
       "116803  116804      09/23/2020    Zhytomyr Oblast         Ukraine   \n",
       "116804  116805      09/23/2020       Zuid-Holland     Netherlands   \n",
       "\n",
       "                Last Update  Confirmed  Deaths  Recovered  \n",
       "0           1/22/2020 17:00        1.0     0.0        0.0  \n",
       "1           1/22/2020 17:00       14.0     0.0        0.0  \n",
       "2           1/22/2020 17:00        6.0     0.0        0.0  \n",
       "3           1/22/2020 17:00        1.0     0.0        0.0  \n",
       "4           1/22/2020 17:00        0.0     0.0        0.0  \n",
       "...                     ...        ...     ...        ...  \n",
       "116800  2020-09-24 04:23:38     3149.0    49.0     1158.0  \n",
       "116801  2020-09-24 04:23:38     1270.0    72.0        0.0  \n",
       "116802  2020-09-24 04:23:38     1282.0     1.0     1272.0  \n",
       "116803  2020-09-24 04:23:38     5191.0    92.0     2853.0  \n",
       "116804  2020-09-24 04:23:38    29513.0  1372.0        0.0  \n",
       "\n",
       "[81452 rows x 8 columns]"
      ]
     },
     "execution_count": 52,
     "metadata": {},
     "output_type": "execute_result"
    }
   ],
   "source": [
    "# show dataset\n",
    "cov"
   ]
  },
  {
   "cell_type": "code",
   "execution_count": 53,
   "metadata": {},
   "outputs": [
    {
     "data": {
      "text/html": [
       "<div>\n",
       "<style scoped>\n",
       "    .dataframe tbody tr th:only-of-type {\n",
       "        vertical-align: middle;\n",
       "    }\n",
       "\n",
       "    .dataframe tbody tr th {\n",
       "        vertical-align: top;\n",
       "    }\n",
       "\n",
       "    .dataframe thead th {\n",
       "        text-align: right;\n",
       "    }\n",
       "</style>\n",
       "<table border=\"1\" class=\"dataframe\">\n",
       "  <thead>\n",
       "    <tr style=\"text-align: right;\">\n",
       "      <th></th>\n",
       "      <th>SNo</th>\n",
       "      <th>Confirmed</th>\n",
       "      <th>Deaths</th>\n",
       "      <th>Recovered</th>\n",
       "    </tr>\n",
       "  </thead>\n",
       "  <tbody>\n",
       "    <tr>\n",
       "      <th>count</th>\n",
       "      <td>81452.000000</td>\n",
       "      <td>8.145200e+04</td>\n",
       "      <td>81452.000000</td>\n",
       "      <td>8.145200e+04</td>\n",
       "    </tr>\n",
       "    <tr>\n",
       "      <th>mean</th>\n",
       "      <td>63020.428056</td>\n",
       "      <td>1.950380e+04</td>\n",
       "      <td>802.709105</td>\n",
       "      <td>1.114304e+04</td>\n",
       "    </tr>\n",
       "    <tr>\n",
       "      <th>std</th>\n",
       "      <td>32304.171786</td>\n",
       "      <td>6.044557e+04</td>\n",
       "      <td>2780.366795</td>\n",
       "      <td>7.052453e+04</td>\n",
       "    </tr>\n",
       "    <tr>\n",
       "      <th>min</th>\n",
       "      <td>1.000000</td>\n",
       "      <td>0.000000e+00</td>\n",
       "      <td>0.000000</td>\n",
       "      <td>0.000000e+00</td>\n",
       "    </tr>\n",
       "    <tr>\n",
       "      <th>25%</th>\n",
       "      <td>37698.750000</td>\n",
       "      <td>3.150000e+02</td>\n",
       "      <td>3.000000</td>\n",
       "      <td>0.000000e+00</td>\n",
       "    </tr>\n",
       "    <tr>\n",
       "      <th>50%</th>\n",
       "      <td>64318.500000</td>\n",
       "      <td>2.622000e+03</td>\n",
       "      <td>52.000000</td>\n",
       "      <td>3.490000e+02</td>\n",
       "    </tr>\n",
       "    <tr>\n",
       "      <th>75%</th>\n",
       "      <td>90562.250000</td>\n",
       "      <td>1.064950e+04</td>\n",
       "      <td>406.000000</td>\n",
       "      <td>3.655250e+03</td>\n",
       "    </tr>\n",
       "    <tr>\n",
       "      <th>max</th>\n",
       "      <td>116805.000000</td>\n",
       "      <td>1.242770e+06</td>\n",
       "      <td>42072.000000</td>\n",
       "      <td>2.670256e+06</td>\n",
       "    </tr>\n",
       "  </tbody>\n",
       "</table>\n",
       "</div>"
      ],
      "text/plain": [
       "                 SNo     Confirmed        Deaths     Recovered\n",
       "count   81452.000000  8.145200e+04  81452.000000  8.145200e+04\n",
       "mean    63020.428056  1.950380e+04    802.709105  1.114304e+04\n",
       "std     32304.171786  6.044557e+04   2780.366795  7.052453e+04\n",
       "min         1.000000  0.000000e+00      0.000000  0.000000e+00\n",
       "25%     37698.750000  3.150000e+02      3.000000  0.000000e+00\n",
       "50%     64318.500000  2.622000e+03     52.000000  3.490000e+02\n",
       "75%     90562.250000  1.064950e+04    406.000000  3.655250e+03\n",
       "max    116805.000000  1.242770e+06  42072.000000  2.670256e+06"
      ]
     },
     "execution_count": 53,
     "metadata": {},
     "output_type": "execute_result"
    }
   ],
   "source": [
    "# describe numerical columns\n",
    "cov.describe()"
   ]
  },
  {
   "cell_type": "markdown",
   "metadata": {},
   "source": [
    "From the description above we can obtain:\n",
    "- the total count of confirmed and recovered cases, and deaths;\n",
    "- mean value for each of the columns;\n",
    "- min and max values."
   ]
  },
  {
   "cell_type": "markdown",
   "metadata": {},
   "source": [
    "### Data cleaning and shaping"
   ]
  },
  {
   "cell_type": "code",
   "execution_count": 54,
   "metadata": {},
   "outputs": [
    {
     "name": "stdout",
     "output_type": "stream",
     "text": [
      "0\n"
     ]
    }
   ],
   "source": [
    "# check if there are still any NaN values\n",
    "df=pd.DataFrame(cov)\n",
    "print(df.isnull().any(axis=1).sum())"
   ]
  },
  {
   "cell_type": "markdown",
   "metadata": {},
   "source": [
    "We checked for missing values and found the sum of total number of them. From this we can obtain that there are no NaN values in the dataset "
   ]
  },
  {
   "cell_type": "code",
   "execution_count": 55,
   "metadata": {},
   "outputs": [
    {
     "name": "stdout",
     "output_type": "stream",
     "text": [
      "SNo                0.0\n",
      "ObservationDate    0.0\n",
      "Province/State     0.0\n",
      "Country/Region     0.0\n",
      "Last Update        0.0\n",
      "Confirmed          0.0\n",
      "Deaths             0.0\n",
      "Recovered          0.0\n",
      "dtype: float64\n"
     ]
    }
   ],
   "source": [
    "# check if there any duplicates\n",
    "duplicateRows = df[df.duplicated()]\n",
    "print(duplicateRows.sum())"
   ]
  },
  {
   "cell_type": "markdown",
   "metadata": {},
   "source": [
    "Duplicates are not found in the dataset"
   ]
  },
  {
   "cell_type": "code",
   "execution_count": 56,
   "metadata": {},
   "outputs": [
    {
     "data": {
      "text/html": [
       "<div>\n",
       "<style scoped>\n",
       "    .dataframe tbody tr th:only-of-type {\n",
       "        vertical-align: middle;\n",
       "    }\n",
       "\n",
       "    .dataframe tbody tr th {\n",
       "        vertical-align: top;\n",
       "    }\n",
       "\n",
       "    .dataframe thead th {\n",
       "        text-align: right;\n",
       "    }\n",
       "</style>\n",
       "<table border=\"1\" class=\"dataframe\">\n",
       "  <thead>\n",
       "    <tr style=\"text-align: right;\">\n",
       "      <th></th>\n",
       "      <th>SNo</th>\n",
       "      <th>ObservationDate</th>\n",
       "      <th>Province/State</th>\n",
       "      <th>Country/Region</th>\n",
       "      <th>Last Update</th>\n",
       "      <th>Confirmed</th>\n",
       "      <th>Deaths</th>\n",
       "      <th>Recovered</th>\n",
       "    </tr>\n",
       "  </thead>\n",
       "  <tbody>\n",
       "    <tr>\n",
       "      <th>0</th>\n",
       "      <td>1</td>\n",
       "      <td>01/22/2020</td>\n",
       "      <td>Anhui</td>\n",
       "      <td>Mainland China</td>\n",
       "      <td>1/22/2020 17:00</td>\n",
       "      <td>1</td>\n",
       "      <td>0</td>\n",
       "      <td>0</td>\n",
       "    </tr>\n",
       "    <tr>\n",
       "      <th>1</th>\n",
       "      <td>2</td>\n",
       "      <td>01/22/2020</td>\n",
       "      <td>Beijing</td>\n",
       "      <td>Mainland China</td>\n",
       "      <td>1/22/2020 17:00</td>\n",
       "      <td>14</td>\n",
       "      <td>0</td>\n",
       "      <td>0</td>\n",
       "    </tr>\n",
       "    <tr>\n",
       "      <th>2</th>\n",
       "      <td>3</td>\n",
       "      <td>01/22/2020</td>\n",
       "      <td>Chongqing</td>\n",
       "      <td>Mainland China</td>\n",
       "      <td>1/22/2020 17:00</td>\n",
       "      <td>6</td>\n",
       "      <td>0</td>\n",
       "      <td>0</td>\n",
       "    </tr>\n",
       "    <tr>\n",
       "      <th>3</th>\n",
       "      <td>4</td>\n",
       "      <td>01/22/2020</td>\n",
       "      <td>Fujian</td>\n",
       "      <td>Mainland China</td>\n",
       "      <td>1/22/2020 17:00</td>\n",
       "      <td>1</td>\n",
       "      <td>0</td>\n",
       "      <td>0</td>\n",
       "    </tr>\n",
       "    <tr>\n",
       "      <th>4</th>\n",
       "      <td>5</td>\n",
       "      <td>01/22/2020</td>\n",
       "      <td>Gansu</td>\n",
       "      <td>Mainland China</td>\n",
       "      <td>1/22/2020 17:00</td>\n",
       "      <td>0</td>\n",
       "      <td>0</td>\n",
       "      <td>0</td>\n",
       "    </tr>\n",
       "    <tr>\n",
       "      <th>...</th>\n",
       "      <td>...</td>\n",
       "      <td>...</td>\n",
       "      <td>...</td>\n",
       "      <td>...</td>\n",
       "      <td>...</td>\n",
       "      <td>...</td>\n",
       "      <td>...</td>\n",
       "      <td>...</td>\n",
       "    </tr>\n",
       "    <tr>\n",
       "      <th>116800</th>\n",
       "      <td>116801</td>\n",
       "      <td>09/23/2020</td>\n",
       "      <td>Zaporizhia Oblast</td>\n",
       "      <td>Ukraine</td>\n",
       "      <td>2020-09-24 04:23:38</td>\n",
       "      <td>3149</td>\n",
       "      <td>49</td>\n",
       "      <td>1158</td>\n",
       "    </tr>\n",
       "    <tr>\n",
       "      <th>116801</th>\n",
       "      <td>116802</td>\n",
       "      <td>09/23/2020</td>\n",
       "      <td>Zeeland</td>\n",
       "      <td>Netherlands</td>\n",
       "      <td>2020-09-24 04:23:38</td>\n",
       "      <td>1270</td>\n",
       "      <td>72</td>\n",
       "      <td>0</td>\n",
       "    </tr>\n",
       "    <tr>\n",
       "      <th>116802</th>\n",
       "      <td>116803</td>\n",
       "      <td>09/23/2020</td>\n",
       "      <td>Zhejiang</td>\n",
       "      <td>Mainland China</td>\n",
       "      <td>2020-09-24 04:23:38</td>\n",
       "      <td>1282</td>\n",
       "      <td>1</td>\n",
       "      <td>1272</td>\n",
       "    </tr>\n",
       "    <tr>\n",
       "      <th>116803</th>\n",
       "      <td>116804</td>\n",
       "      <td>09/23/2020</td>\n",
       "      <td>Zhytomyr Oblast</td>\n",
       "      <td>Ukraine</td>\n",
       "      <td>2020-09-24 04:23:38</td>\n",
       "      <td>5191</td>\n",
       "      <td>92</td>\n",
       "      <td>2853</td>\n",
       "    </tr>\n",
       "    <tr>\n",
       "      <th>116804</th>\n",
       "      <td>116805</td>\n",
       "      <td>09/23/2020</td>\n",
       "      <td>Zuid-Holland</td>\n",
       "      <td>Netherlands</td>\n",
       "      <td>2020-09-24 04:23:38</td>\n",
       "      <td>29513</td>\n",
       "      <td>1372</td>\n",
       "      <td>0</td>\n",
       "    </tr>\n",
       "  </tbody>\n",
       "</table>\n",
       "<p>81452 rows × 8 columns</p>\n",
       "</div>"
      ],
      "text/plain": [
       "           SNo ObservationDate     Province/State  Country/Region  \\\n",
       "0            1      01/22/2020              Anhui  Mainland China   \n",
       "1            2      01/22/2020            Beijing  Mainland China   \n",
       "2            3      01/22/2020          Chongqing  Mainland China   \n",
       "3            4      01/22/2020             Fujian  Mainland China   \n",
       "4            5      01/22/2020              Gansu  Mainland China   \n",
       "...        ...             ...                ...             ...   \n",
       "116800  116801      09/23/2020  Zaporizhia Oblast         Ukraine   \n",
       "116801  116802      09/23/2020            Zeeland     Netherlands   \n",
       "116802  116803      09/23/2020           Zhejiang  Mainland China   \n",
       "116803  116804      09/23/2020    Zhytomyr Oblast         Ukraine   \n",
       "116804  116805      09/23/2020       Zuid-Holland     Netherlands   \n",
       "\n",
       "                Last Update  Confirmed  Deaths  Recovered  \n",
       "0           1/22/2020 17:00          1       0          0  \n",
       "1           1/22/2020 17:00         14       0          0  \n",
       "2           1/22/2020 17:00          6       0          0  \n",
       "3           1/22/2020 17:00          1       0          0  \n",
       "4           1/22/2020 17:00          0       0          0  \n",
       "...                     ...        ...     ...        ...  \n",
       "116800  2020-09-24 04:23:38       3149      49       1158  \n",
       "116801  2020-09-24 04:23:38       1270      72          0  \n",
       "116802  2020-09-24 04:23:38       1282       1       1272  \n",
       "116803  2020-09-24 04:23:38       5191      92       2853  \n",
       "116804  2020-09-24 04:23:38      29513    1372          0  \n",
       "\n",
       "[81452 rows x 8 columns]"
      ]
     },
     "execution_count": 56,
     "metadata": {},
     "output_type": "execute_result"
    }
   ],
   "source": [
    "# number of confirmed,deaths,recovered cases have to be a whole number\n",
    "df['Confirmed'] = df['Confirmed'].astype(int)\n",
    "df['Deaths'] = df['Deaths'].astype(int)\n",
    "df['Recovered'] = df['Recovered'].astype(int)\n",
    "df"
   ]
  },
  {
   "cell_type": "code",
   "execution_count": 57,
   "metadata": {},
   "outputs": [
    {
     "data": {
      "text/html": [
       "<div>\n",
       "<style scoped>\n",
       "    .dataframe tbody tr th:only-of-type {\n",
       "        vertical-align: middle;\n",
       "    }\n",
       "\n",
       "    .dataframe tbody tr th {\n",
       "        vertical-align: top;\n",
       "    }\n",
       "\n",
       "    .dataframe thead th {\n",
       "        text-align: right;\n",
       "    }\n",
       "</style>\n",
       "<table border=\"1\" class=\"dataframe\">\n",
       "  <thead>\n",
       "    <tr style=\"text-align: right;\">\n",
       "      <th></th>\n",
       "      <th>SNo</th>\n",
       "      <th>ObservationDate</th>\n",
       "      <th>Province</th>\n",
       "      <th>Region</th>\n",
       "      <th>Last Update</th>\n",
       "      <th>Confirmed</th>\n",
       "      <th>Deaths</th>\n",
       "      <th>Recovered</th>\n",
       "      <th>Country/Region</th>\n",
       "      <th>Province/State</th>\n",
       "    </tr>\n",
       "  </thead>\n",
       "  <tbody>\n",
       "    <tr>\n",
       "      <th>0</th>\n",
       "      <td>1</td>\n",
       "      <td>01/22/2020</td>\n",
       "      <td>Anhui</td>\n",
       "      <td>Mainland China</td>\n",
       "      <td>1/22/2020 17:00</td>\n",
       "      <td>1</td>\n",
       "      <td>0</td>\n",
       "      <td>0</td>\n",
       "      <td>None</td>\n",
       "      <td>None</td>\n",
       "    </tr>\n",
       "    <tr>\n",
       "      <th>1</th>\n",
       "      <td>2</td>\n",
       "      <td>01/22/2020</td>\n",
       "      <td>Beijing</td>\n",
       "      <td>Mainland China</td>\n",
       "      <td>1/22/2020 17:00</td>\n",
       "      <td>14</td>\n",
       "      <td>0</td>\n",
       "      <td>0</td>\n",
       "      <td>None</td>\n",
       "      <td>None</td>\n",
       "    </tr>\n",
       "    <tr>\n",
       "      <th>2</th>\n",
       "      <td>3</td>\n",
       "      <td>01/22/2020</td>\n",
       "      <td>Chongqing</td>\n",
       "      <td>Mainland China</td>\n",
       "      <td>1/22/2020 17:00</td>\n",
       "      <td>6</td>\n",
       "      <td>0</td>\n",
       "      <td>0</td>\n",
       "      <td>None</td>\n",
       "      <td>None</td>\n",
       "    </tr>\n",
       "    <tr>\n",
       "      <th>3</th>\n",
       "      <td>4</td>\n",
       "      <td>01/22/2020</td>\n",
       "      <td>Fujian</td>\n",
       "      <td>Mainland China</td>\n",
       "      <td>1/22/2020 17:00</td>\n",
       "      <td>1</td>\n",
       "      <td>0</td>\n",
       "      <td>0</td>\n",
       "      <td>None</td>\n",
       "      <td>None</td>\n",
       "    </tr>\n",
       "    <tr>\n",
       "      <th>4</th>\n",
       "      <td>5</td>\n",
       "      <td>01/22/2020</td>\n",
       "      <td>Gansu</td>\n",
       "      <td>Mainland China</td>\n",
       "      <td>1/22/2020 17:00</td>\n",
       "      <td>0</td>\n",
       "      <td>0</td>\n",
       "      <td>0</td>\n",
       "      <td>None</td>\n",
       "      <td>None</td>\n",
       "    </tr>\n",
       "    <tr>\n",
       "      <th>...</th>\n",
       "      <td>...</td>\n",
       "      <td>...</td>\n",
       "      <td>...</td>\n",
       "      <td>...</td>\n",
       "      <td>...</td>\n",
       "      <td>...</td>\n",
       "      <td>...</td>\n",
       "      <td>...</td>\n",
       "      <td>...</td>\n",
       "      <td>...</td>\n",
       "    </tr>\n",
       "    <tr>\n",
       "      <th>116800</th>\n",
       "      <td>116801</td>\n",
       "      <td>09/23/2020</td>\n",
       "      <td>Zaporizhia Oblast</td>\n",
       "      <td>Ukraine</td>\n",
       "      <td>2020-09-24 04:23:38</td>\n",
       "      <td>3149</td>\n",
       "      <td>49</td>\n",
       "      <td>1158</td>\n",
       "      <td>None</td>\n",
       "      <td>None</td>\n",
       "    </tr>\n",
       "    <tr>\n",
       "      <th>116801</th>\n",
       "      <td>116802</td>\n",
       "      <td>09/23/2020</td>\n",
       "      <td>Zeeland</td>\n",
       "      <td>Netherlands</td>\n",
       "      <td>2020-09-24 04:23:38</td>\n",
       "      <td>1270</td>\n",
       "      <td>72</td>\n",
       "      <td>0</td>\n",
       "      <td>None</td>\n",
       "      <td>None</td>\n",
       "    </tr>\n",
       "    <tr>\n",
       "      <th>116802</th>\n",
       "      <td>116803</td>\n",
       "      <td>09/23/2020</td>\n",
       "      <td>Zhejiang</td>\n",
       "      <td>Mainland China</td>\n",
       "      <td>2020-09-24 04:23:38</td>\n",
       "      <td>1282</td>\n",
       "      <td>1</td>\n",
       "      <td>1272</td>\n",
       "      <td>None</td>\n",
       "      <td>None</td>\n",
       "    </tr>\n",
       "    <tr>\n",
       "      <th>116803</th>\n",
       "      <td>116804</td>\n",
       "      <td>09/23/2020</td>\n",
       "      <td>Zhytomyr Oblast</td>\n",
       "      <td>Ukraine</td>\n",
       "      <td>2020-09-24 04:23:38</td>\n",
       "      <td>5191</td>\n",
       "      <td>92</td>\n",
       "      <td>2853</td>\n",
       "      <td>None</td>\n",
       "      <td>None</td>\n",
       "    </tr>\n",
       "    <tr>\n",
       "      <th>116804</th>\n",
       "      <td>116805</td>\n",
       "      <td>09/23/2020</td>\n",
       "      <td>Zuid-Holland</td>\n",
       "      <td>Netherlands</td>\n",
       "      <td>2020-09-24 04:23:38</td>\n",
       "      <td>29513</td>\n",
       "      <td>1372</td>\n",
       "      <td>0</td>\n",
       "      <td>None</td>\n",
       "      <td>None</td>\n",
       "    </tr>\n",
       "  </tbody>\n",
       "</table>\n",
       "<p>81452 rows × 10 columns</p>\n",
       "</div>"
      ],
      "text/plain": [
       "           SNo ObservationDate           Province          Region  \\\n",
       "0            1      01/22/2020              Anhui  Mainland China   \n",
       "1            2      01/22/2020            Beijing  Mainland China   \n",
       "2            3      01/22/2020          Chongqing  Mainland China   \n",
       "3            4      01/22/2020             Fujian  Mainland China   \n",
       "4            5      01/22/2020              Gansu  Mainland China   \n",
       "...        ...             ...                ...             ...   \n",
       "116800  116801      09/23/2020  Zaporizhia Oblast         Ukraine   \n",
       "116801  116802      09/23/2020            Zeeland     Netherlands   \n",
       "116802  116803      09/23/2020           Zhejiang  Mainland China   \n",
       "116803  116804      09/23/2020    Zhytomyr Oblast         Ukraine   \n",
       "116804  116805      09/23/2020       Zuid-Holland     Netherlands   \n",
       "\n",
       "                Last Update  Confirmed  Deaths  Recovered Country/Region  \\\n",
       "0           1/22/2020 17:00          1       0          0           None   \n",
       "1           1/22/2020 17:00         14       0          0           None   \n",
       "2           1/22/2020 17:00          6       0          0           None   \n",
       "3           1/22/2020 17:00          1       0          0           None   \n",
       "4           1/22/2020 17:00          0       0          0           None   \n",
       "...                     ...        ...     ...        ...            ...   \n",
       "116800  2020-09-24 04:23:38       3149      49       1158           None   \n",
       "116801  2020-09-24 04:23:38       1270      72          0           None   \n",
       "116802  2020-09-24 04:23:38       1282       1       1272           None   \n",
       "116803  2020-09-24 04:23:38       5191      92       2853           None   \n",
       "116804  2020-09-24 04:23:38      29513    1372          0           None   \n",
       "\n",
       "       Province/State  \n",
       "0                None  \n",
       "1                None  \n",
       "2                None  \n",
       "3                None  \n",
       "4                None  \n",
       "...               ...  \n",
       "116800           None  \n",
       "116801           None  \n",
       "116802           None  \n",
       "116803           None  \n",
       "116804           None  \n",
       "\n",
       "[81452 rows x 10 columns]"
      ]
     },
     "execution_count": 57,
     "metadata": {},
     "output_type": "execute_result"
    }
   ],
   "source": [
    "# rename column name to game_name\n",
    "df=pd.DataFrame(cov)\n",
    "df['Country/Region'] = df.rename(columns = {'Country/Region':'Region'}, inplace = True) \n",
    "df['Province/State'] = df.rename(columns = {'Province/State':'Province'}, inplace = True)\n",
    "df"
   ]
  },
  {
   "cell_type": "markdown",
   "metadata": {},
   "source": [
    "## 5. Data visualization "
   ]
  },
  {
   "cell_type": "markdown",
   "metadata": {},
   "source": [
    "In this section, I will respond to the research questions by data visualization"
   ]
  },
  {
   "cell_type": "markdown",
   "metadata": {},
   "source": [
    "### 5.1 Q1: Distribution of daily information about cases of coronavirus by period of time"
   ]
  },
  {
   "cell_type": "code",
   "execution_count": 66,
   "metadata": {},
   "outputs": [
    {
     "data": {
      "text/plain": [
       "month\n",
       "8    17804\n",
       "7    17573\n",
       "6    16278\n",
       "9    13205\n",
       "5     6706\n",
       "4     4173\n",
       "3     3750\n",
       "2     1573\n",
       "1      390\n",
       "Name: SNo, dtype: int64"
      ]
     },
     "execution_count": 66,
     "metadata": {},
     "output_type": "execute_result"
    }
   ],
   "source": [
    "# Changing the datatype of column to datetime\n",
    "df['ObservationDate'] = pd.to_datetime(df['ObservationDate'])\n",
    "# Extracting of month values from the column\n",
    "df['month'] = df['ObservationDate'].dt.month\n",
    "# Getting the number of daily information by the regions in month\n",
    "month_count = df.groupby('month')['SNo'].nunique().sort_values(ascending = False)\n",
    "month_count"
   ]
  },
  {
   "cell_type": "code",
   "execution_count": 67,
   "metadata": {},
   "outputs": [
    {
     "data": {
      "image/png": "[encoded data removed]",
      "text/plain": [
       "<Figure size 504x504 with 1 Axes>"
      ]
     },
     "metadata": {
      "needs_background": "light"
     },
     "output_type": "display_data"
    }
   ],
   "source": [
    "# The barplot of distribution of information about the Covid-19 by month\n",
    "plot.figure(figsize = (7,7))\n",
    "colors=['r','g','b','y']\n",
    "plot.bar(month_count.index,month_count,color = colors)\n",
    "plot.title('Distribution of information about the Covid-19 by month',fontsize = 13)\n",
    "plot.xlabel('The month', fontsize = 13)\n",
    "plot.ylabel('The count', fontsize = 13)\n",
    "plot.show()"
   ]
  },
  {
   "cell_type": "markdown",
   "metadata": {},
   "source": [
    "The 8th month of calendar (August) had the highest distribution of daily cases of coronavirus, while the 1st month (January) had the least distrubution. The distribution has been raising month by month except for September."
   ]
  },
  {
   "cell_type": "markdown",
   "metadata": {},
   "source": [
    "### Q2: 5.2 Analyze the most frequent regions in the list"
   ]
  },
  {
   "cell_type": "code",
   "execution_count": 68,
   "metadata": {},
   "outputs": [
    {
     "data": {
      "text/plain": [
       "0         Mainland China\n",
       "1         Mainland China\n",
       "2         Mainland China\n",
       "3         Mainland China\n",
       "4         Mainland China\n",
       "               ...      \n",
       "116800           Ukraine\n",
       "116801       Netherlands\n",
       "116802    Mainland China\n",
       "116803           Ukraine\n",
       "116804       Netherlands\n",
       "Name: Region, Length: 81452, dtype: object"
      ]
     },
     "execution_count": 68,
     "metadata": {},
     "output_type": "execute_result"
    }
   ],
   "source": [
    "# select Region column\n",
    "country = df[\"Region\"]\n",
    "country"
   ]
  },
  {
   "cell_type": "code",
   "execution_count": 69,
   "metadata": {},
   "outputs": [
    {
     "data": {
      "text/plain": [
       "count     81452\n",
       "unique       30\n",
       "top          US\n",
       "freq      12356\n",
       "Name: Region, dtype: object"
      ]
     },
     "execution_count": 69,
     "metadata": {},
     "output_type": "execute_result"
    }
   ],
   "source": [
    "# describe the column\n",
    "country.describe()"
   ]
  },
  {
   "cell_type": "markdown",
   "metadata": {},
   "source": [
    "There are 81452 values overall for the region names and 30 of them are unique. The top one is the United States, which appears with the frequency of 12356 times."
   ]
  },
  {
   "cell_type": "code",
   "execution_count": 70,
   "metadata": {},
   "outputs": [
    {
     "data": {
      "image/png": "[encoded data removed]",
      "text/plain": [
       "<Figure size 864x360 with 1 Axes>"
      ]
     },
     "metadata": {
      "needs_background": "light"
     },
     "output_type": "display_data"
    }
   ],
   "source": [
    "# histogram of countries in the list and their occurence\n",
    "plot.figure(figsize = (12,5))\n",
    "plot.hist(df[\"Region\"], bins=30, width = 2.0, range=None, align='mid', color = 'darkgreen')\n",
    "plot.xlabel(\"Region\", fontsize=13)\n",
    "plot.xticks(rotation='vertical')\n",
    "plot.ylabel(\"Number of occurences\")\n",
    "plot.title(\"Regions histogram and their occurence\")\n",
    "plot.ylim(0, 13000)\n",
    "plot.grid(True)\n",
    "\n",
    "plot.show()"
   ]
  },
  {
   "cell_type": "markdown",
   "metadata": {},
   "source": [
    "The histogram shows the distribution of occurences per country. The United States has a leading amount with more than 12000 occurences. The data for different countries can be easily obtained from the constructed histogram. "
   ]
  }
 ],
 "metadata": {
  "kernelspec": {
   "display_name": "Python 3",
   "language": "python",
   "name": "python3"
  },
  "language_info": {
   "codemirror_mode": {
    "name": "ipython",
    "version": 3
   },
   "file_extension": ".py",
   "mimetype": "text/x-python",
   "name": "python",
   "nbconvert_exporter": "python",
   "pygments_lexer": "ipython3",
   "version": "3.8.3"
  }
 },
 "nbformat": 4,
 "nbformat_minor": 4
}
