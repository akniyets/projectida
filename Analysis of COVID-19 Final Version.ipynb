{
 "cells": [
  {
   "cell_type": "markdown",
   "metadata": {},
   "source": [
    "# Analysis of Novel Coronavirus 2019 "
   ]
  },
  {
   "cell_type": "markdown",
   "metadata": {},
   "source": [
    "### Content\n",
    "+ Introduction: Novel coronavirus 2019\n",
    "+ Data description\n",
    "+ Research questions\n",
    "+ Data preparation: cleaning and shaping\n",
    "+ Data visualization\n",
    "+ Conclusion"
   ]
  },
  {
   "cell_type": "markdown",
   "metadata": {},
   "source": [
    "## 1. Introduction: COVID-19"
   ]
  },
  {
   "cell_type": "markdown",
   "metadata": {},
   "source": [
    "2019-nCoV or COVID-19 (2019 Novel Coronavirus) is a virus identified as the cause of an outbreak of respiratory illness first detected in Wuhan, China. Early on, many of the patients in the outbreak in Wuhan, China reportedly had some link to a large seafood and animal market, suggesting animal-to-person spread. However, a growing number of patients reportedly have not had exposure to animal markets, indicating person-to-person spread is occurring. At this time, it’s unclear how easily or sustainably this virus is spreading between people.\n",
    "\n",
    "There is an ongoing investigation to determine more about this outbreak. This is a rapidly evolving situation and information will be updated as it becomes available. The latest situation summary updates are available on CDC’s web page for COVID-19."
   ]
  },
  {
   "cell_type": "markdown",
   "metadata": {},
   "source": [
    "Source(https://www.cdc.gov/library/researchguides/2019NovelCoronavirus.html)"
   ]
  },
  {
   "cell_type": "markdown",
   "metadata": {},
   "source": [
    "## 2. Data description"
   ]
  },
  {
   "cell_type": "markdown",
   "metadata": {},
   "source": [
    "This dataset has daily level information on the number of affected cases, deaths and recovery from 2019 novel coronavirus. Please note that this is a time series data and so the number of cases on any given day is the cumulative number.\n",
    "\n",
    "The data is available from 22 Jan, 2020.\n",
    "\n",
    "The detailed description of the variables in this dataset is below:\n",
    "+ Sno - Serial number\n",
    "+ ObservationDate - Date of the observation in MM/DD/YYYY\n",
    "+ Province/State - Province or state of the observation (Could be empty when missing)\n",
    "+ Country/Region - Country of observation\n",
    "+ Last Update - Time in UTC at which the row is updated for the given province or country. (Not standardised and so please clean before using it)\n",
    "+ Confirmed - Cumulative number of confirmed cases till that date\n",
    "+ Deaths - Cumulative number of of deaths till that date\n",
    "+ Recovered - Cumulative number of recovered cases till that date"
   ]
  },
  {
   "cell_type": "markdown",
   "metadata": {},
   "source": [
    "## 3. Research questions"
   ]
  },
  {
   "cell_type": "markdown",
   "metadata": {},
   "source": [
    "Research questions for the project:\n",
    "1. Analyze daily information about cases of coronavirus by period of time\n",
    "2. Analyze the regions that were mostly affected by covid-19\n",
    "3. Analyze the spread of coronavirus infection worldwide\n",
    "4. Analyze the mortality and survival rates of covid-19 by regions\n",
    "5. Analyze The spread of coronavirus infection by province"
   ]
  },
  {
   "cell_type": "markdown",
   "metadata": {},
   "source": [
    "## 4. Data preparation: cleaning and shaping"
   ]
  },
  {
   "cell_type": "code",
   "execution_count": 127,
   "metadata": {},
   "outputs": [],
   "source": [
    "# import modules\n",
    "import numpy as np\n",
    "import pandas as pd\n",
    "import matplotlib.pyplot as plot\n",
    "import seaborn as sns"
   ]
  },
  {
   "cell_type": "code",
   "execution_count": 128,
   "metadata": {},
   "outputs": [],
   "source": [
    "# import dataset\n",
    "cov = pd.read_csv('covid_19_data.csv')"
   ]
  },
  {
   "cell_type": "code",
   "execution_count": 129,
   "metadata": {},
   "outputs": [
    {
     "name": "stdout",
     "output_type": "stream",
     "text": [
      "<class 'pandas.core.frame.DataFrame'>\n",
      "RangeIndex: 116805 entries, 0 to 116804\n",
      "Data columns (total 8 columns):\n",
      " #   Column           Non-Null Count   Dtype  \n",
      "---  ------           --------------   -----  \n",
      " 0   SNo              116805 non-null  int64  \n",
      " 1   ObservationDate  116805 non-null  object \n",
      " 2   Province/State   81452 non-null   object \n",
      " 3   Country/Region   116805 non-null  object \n",
      " 4   Last Update      116805 non-null  object \n",
      " 5   Confirmed        116805 non-null  float64\n",
      " 6   Deaths           116805 non-null  float64\n",
      " 7   Recovered        116805 non-null  float64\n",
      "dtypes: float64(3), int64(1), object(4)\n",
      "memory usage: 7.1+ MB\n"
     ]
    }
   ],
   "source": [
    "# number of rows, columns, data types, memory usage information\n",
    "cov.info()"
   ]
  },
  {
   "cell_type": "markdown",
   "metadata": {},
   "source": [
    "So we obtain the following information:\n",
    "1. There are 116805 records and 8 columns\n",
    "2. There are missing values in Province/State column"
   ]
  },
  {
   "cell_type": "code",
   "execution_count": 130,
   "metadata": {},
   "outputs": [],
   "source": [
    "# dropping\n",
    "cov = cov.dropna()"
   ]
  },
  {
   "cell_type": "code",
   "execution_count": 131,
   "metadata": {},
   "outputs": [
    {
     "data": {
      "text/html": [
       "<div>\n",
       "<style scoped>\n",
       "    .dataframe tbody tr th:only-of-type {\n",
       "        vertical-align: middle;\n",
       "    }\n",
       "\n",
       "    .dataframe tbody tr th {\n",
       "        vertical-align: top;\n",
       "    }\n",
       "\n",
       "    .dataframe thead th {\n",
       "        text-align: right;\n",
       "    }\n",
       "</style>\n",
       "<table border=\"1\" class=\"dataframe\">\n",
       "  <thead>\n",
       "    <tr style=\"text-align: right;\">\n",
       "      <th></th>\n",
       "      <th>SNo</th>\n",
       "      <th>ObservationDate</th>\n",
       "      <th>Province/State</th>\n",
       "      <th>Country/Region</th>\n",
       "      <th>Last Update</th>\n",
       "      <th>Confirmed</th>\n",
       "      <th>Deaths</th>\n",
       "      <th>Recovered</th>\n",
       "    </tr>\n",
       "  </thead>\n",
       "  <tbody>\n",
       "    <tr>\n",
       "      <th>0</th>\n",
       "      <td>1</td>\n",
       "      <td>01/22/2020</td>\n",
       "      <td>Anhui</td>\n",
       "      <td>Mainland China</td>\n",
       "      <td>1/22/2020 17:00</td>\n",
       "      <td>1.0</td>\n",
       "      <td>0.0</td>\n",
       "      <td>0.0</td>\n",
       "    </tr>\n",
       "    <tr>\n",
       "      <th>1</th>\n",
       "      <td>2</td>\n",
       "      <td>01/22/2020</td>\n",
       "      <td>Beijing</td>\n",
       "      <td>Mainland China</td>\n",
       "      <td>1/22/2020 17:00</td>\n",
       "      <td>14.0</td>\n",
       "      <td>0.0</td>\n",
       "      <td>0.0</td>\n",
       "    </tr>\n",
       "    <tr>\n",
       "      <th>2</th>\n",
       "      <td>3</td>\n",
       "      <td>01/22/2020</td>\n",
       "      <td>Chongqing</td>\n",
       "      <td>Mainland China</td>\n",
       "      <td>1/22/2020 17:00</td>\n",
       "      <td>6.0</td>\n",
       "      <td>0.0</td>\n",
       "      <td>0.0</td>\n",
       "    </tr>\n",
       "    <tr>\n",
       "      <th>3</th>\n",
       "      <td>4</td>\n",
       "      <td>01/22/2020</td>\n",
       "      <td>Fujian</td>\n",
       "      <td>Mainland China</td>\n",
       "      <td>1/22/2020 17:00</td>\n",
       "      <td>1.0</td>\n",
       "      <td>0.0</td>\n",
       "      <td>0.0</td>\n",
       "    </tr>\n",
       "    <tr>\n",
       "      <th>4</th>\n",
       "      <td>5</td>\n",
       "      <td>01/22/2020</td>\n",
       "      <td>Gansu</td>\n",
       "      <td>Mainland China</td>\n",
       "      <td>1/22/2020 17:00</td>\n",
       "      <td>0.0</td>\n",
       "      <td>0.0</td>\n",
       "      <td>0.0</td>\n",
       "    </tr>\n",
       "    <tr>\n",
       "      <th>...</th>\n",
       "      <td>...</td>\n",
       "      <td>...</td>\n",
       "      <td>...</td>\n",
       "      <td>...</td>\n",
       "      <td>...</td>\n",
       "      <td>...</td>\n",
       "      <td>...</td>\n",
       "      <td>...</td>\n",
       "    </tr>\n",
       "    <tr>\n",
       "      <th>116800</th>\n",
       "      <td>116801</td>\n",
       "      <td>09/23/2020</td>\n",
       "      <td>Zaporizhia Oblast</td>\n",
       "      <td>Ukraine</td>\n",
       "      <td>2020-09-24 04:23:38</td>\n",
       "      <td>3149.0</td>\n",
       "      <td>49.0</td>\n",
       "      <td>1158.0</td>\n",
       "    </tr>\n",
       "    <tr>\n",
       "      <th>116801</th>\n",
       "      <td>116802</td>\n",
       "      <td>09/23/2020</td>\n",
       "      <td>Zeeland</td>\n",
       "      <td>Netherlands</td>\n",
       "      <td>2020-09-24 04:23:38</td>\n",
       "      <td>1270.0</td>\n",
       "      <td>72.0</td>\n",
       "      <td>0.0</td>\n",
       "    </tr>\n",
       "    <tr>\n",
       "      <th>116802</th>\n",
       "      <td>116803</td>\n",
       "      <td>09/23/2020</td>\n",
       "      <td>Zhejiang</td>\n",
       "      <td>Mainland China</td>\n",
       "      <td>2020-09-24 04:23:38</td>\n",
       "      <td>1282.0</td>\n",
       "      <td>1.0</td>\n",
       "      <td>1272.0</td>\n",
       "    </tr>\n",
       "    <tr>\n",
       "      <th>116803</th>\n",
       "      <td>116804</td>\n",
       "      <td>09/23/2020</td>\n",
       "      <td>Zhytomyr Oblast</td>\n",
       "      <td>Ukraine</td>\n",
       "      <td>2020-09-24 04:23:38</td>\n",
       "      <td>5191.0</td>\n",
       "      <td>92.0</td>\n",
       "      <td>2853.0</td>\n",
       "    </tr>\n",
       "    <tr>\n",
       "      <th>116804</th>\n",
       "      <td>116805</td>\n",
       "      <td>09/23/2020</td>\n",
       "      <td>Zuid-Holland</td>\n",
       "      <td>Netherlands</td>\n",
       "      <td>2020-09-24 04:23:38</td>\n",
       "      <td>29513.0</td>\n",
       "      <td>1372.0</td>\n",
       "      <td>0.0</td>\n",
       "    </tr>\n",
       "  </tbody>\n",
       "</table>\n",
       "<p>81452 rows × 8 columns</p>\n",
       "</div>"
      ],
      "text/plain": [
       "           SNo ObservationDate     Province/State  Country/Region  \\\n",
       "0            1      01/22/2020              Anhui  Mainland China   \n",
       "1            2      01/22/2020            Beijing  Mainland China   \n",
       "2            3      01/22/2020          Chongqing  Mainland China   \n",
       "3            4      01/22/2020             Fujian  Mainland China   \n",
       "4            5      01/22/2020              Gansu  Mainland China   \n",
       "...        ...             ...                ...             ...   \n",
       "116800  116801      09/23/2020  Zaporizhia Oblast         Ukraine   \n",
       "116801  116802      09/23/2020            Zeeland     Netherlands   \n",
       "116802  116803      09/23/2020           Zhejiang  Mainland China   \n",
       "116803  116804      09/23/2020    Zhytomyr Oblast         Ukraine   \n",
       "116804  116805      09/23/2020       Zuid-Holland     Netherlands   \n",
       "\n",
       "                Last Update  Confirmed  Deaths  Recovered  \n",
       "0           1/22/2020 17:00        1.0     0.0        0.0  \n",
       "1           1/22/2020 17:00       14.0     0.0        0.0  \n",
       "2           1/22/2020 17:00        6.0     0.0        0.0  \n",
       "3           1/22/2020 17:00        1.0     0.0        0.0  \n",
       "4           1/22/2020 17:00        0.0     0.0        0.0  \n",
       "...                     ...        ...     ...        ...  \n",
       "116800  2020-09-24 04:23:38     3149.0    49.0     1158.0  \n",
       "116801  2020-09-24 04:23:38     1270.0    72.0        0.0  \n",
       "116802  2020-09-24 04:23:38     1282.0     1.0     1272.0  \n",
       "116803  2020-09-24 04:23:38     5191.0    92.0     2853.0  \n",
       "116804  2020-09-24 04:23:38    29513.0  1372.0        0.0  \n",
       "\n",
       "[81452 rows x 8 columns]"
      ]
     },
     "execution_count": 131,
     "metadata": {},
     "output_type": "execute_result"
    }
   ],
   "source": [
    "# show dataset\n",
    "cov"
   ]
  },
  {
   "cell_type": "code",
   "execution_count": 132,
   "metadata": {},
   "outputs": [
    {
     "data": {
      "text/html": [
       "<div>\n",
       "<style scoped>\n",
       "    .dataframe tbody tr th:only-of-type {\n",
       "        vertical-align: middle;\n",
       "    }\n",
       "\n",
       "    .dataframe tbody tr th {\n",
       "        vertical-align: top;\n",
       "    }\n",
       "\n",
       "    .dataframe thead th {\n",
       "        text-align: right;\n",
       "    }\n",
       "</style>\n",
       "<table border=\"1\" class=\"dataframe\">\n",
       "  <thead>\n",
       "    <tr style=\"text-align: right;\">\n",
       "      <th></th>\n",
       "      <th>SNo</th>\n",
       "      <th>Confirmed</th>\n",
       "      <th>Deaths</th>\n",
       "      <th>Recovered</th>\n",
       "    </tr>\n",
       "  </thead>\n",
       "  <tbody>\n",
       "    <tr>\n",
       "      <th>count</th>\n",
       "      <td>81452.000000</td>\n",
       "      <td>8.145200e+04</td>\n",
       "      <td>81452.000000</td>\n",
       "      <td>8.145200e+04</td>\n",
       "    </tr>\n",
       "    <tr>\n",
       "      <th>mean</th>\n",
       "      <td>63020.428056</td>\n",
       "      <td>1.950380e+04</td>\n",
       "      <td>802.709105</td>\n",
       "      <td>1.114304e+04</td>\n",
       "    </tr>\n",
       "    <tr>\n",
       "      <th>std</th>\n",
       "      <td>32304.171786</td>\n",
       "      <td>6.044557e+04</td>\n",
       "      <td>2780.366795</td>\n",
       "      <td>7.052453e+04</td>\n",
       "    </tr>\n",
       "    <tr>\n",
       "      <th>min</th>\n",
       "      <td>1.000000</td>\n",
       "      <td>0.000000e+00</td>\n",
       "      <td>0.000000</td>\n",
       "      <td>0.000000e+00</td>\n",
       "    </tr>\n",
       "    <tr>\n",
       "      <th>25%</th>\n",
       "      <td>37698.750000</td>\n",
       "      <td>3.150000e+02</td>\n",
       "      <td>3.000000</td>\n",
       "      <td>0.000000e+00</td>\n",
       "    </tr>\n",
       "    <tr>\n",
       "      <th>50%</th>\n",
       "      <td>64318.500000</td>\n",
       "      <td>2.622000e+03</td>\n",
       "      <td>52.000000</td>\n",
       "      <td>3.490000e+02</td>\n",
       "    </tr>\n",
       "    <tr>\n",
       "      <th>75%</th>\n",
       "      <td>90562.250000</td>\n",
       "      <td>1.064950e+04</td>\n",
       "      <td>406.000000</td>\n",
       "      <td>3.655250e+03</td>\n",
       "    </tr>\n",
       "    <tr>\n",
       "      <th>max</th>\n",
       "      <td>116805.000000</td>\n",
       "      <td>1.242770e+06</td>\n",
       "      <td>42072.000000</td>\n",
       "      <td>2.670256e+06</td>\n",
       "    </tr>\n",
       "  </tbody>\n",
       "</table>\n",
       "</div>"
      ],
      "text/plain": [
       "                 SNo     Confirmed        Deaths     Recovered\n",
       "count   81452.000000  8.145200e+04  81452.000000  8.145200e+04\n",
       "mean    63020.428056  1.950380e+04    802.709105  1.114304e+04\n",
       "std     32304.171786  6.044557e+04   2780.366795  7.052453e+04\n",
       "min         1.000000  0.000000e+00      0.000000  0.000000e+00\n",
       "25%     37698.750000  3.150000e+02      3.000000  0.000000e+00\n",
       "50%     64318.500000  2.622000e+03     52.000000  3.490000e+02\n",
       "75%     90562.250000  1.064950e+04    406.000000  3.655250e+03\n",
       "max    116805.000000  1.242770e+06  42072.000000  2.670256e+06"
      ]
     },
     "execution_count": 132,
     "metadata": {},
     "output_type": "execute_result"
    }
   ],
   "source": [
    "# describe numerical columns\n",
    "cov.describe()"
   ]
  },
  {
   "cell_type": "markdown",
   "metadata": {},
   "source": [
    "From the description above we can obtain:\n",
    "- the total count of confirmed and recovered cases, and deaths;\n",
    "- mean value for each of the columns;\n",
    "- min and max values."
   ]
  },
  {
   "cell_type": "markdown",
   "metadata": {},
   "source": [
    "### Data cleaning and shaping"
   ]
  },
  {
   "cell_type": "code",
   "execution_count": 133,
   "metadata": {},
   "outputs": [
    {
     "name": "stdout",
     "output_type": "stream",
     "text": [
      "0\n"
     ]
    }
   ],
   "source": [
    "# check if there are still any NaN values\n",
    "df=pd.DataFrame(cov)\n",
    "print(df.isnull().any(axis=1).sum())"
   ]
  },
  {
   "cell_type": "markdown",
   "metadata": {},
   "source": [
    "We checked for missing values and found the sum of total number of them. From this we can obtain that there are no NaN values in the dataset "
   ]
  },
  {
   "cell_type": "code",
   "execution_count": 134,
   "metadata": {},
   "outputs": [
    {
     "name": "stdout",
     "output_type": "stream",
     "text": [
      "SNo                0.0\n",
      "ObservationDate    0.0\n",
      "Province/State     0.0\n",
      "Country/Region     0.0\n",
      "Last Update        0.0\n",
      "Confirmed          0.0\n",
      "Deaths             0.0\n",
      "Recovered          0.0\n",
      "dtype: float64\n"
     ]
    }
   ],
   "source": [
    "# check if there any duplicates\n",
    "duplicateRows = df[df.duplicated()]\n",
    "print(duplicateRows.sum())"
   ]
  },
  {
   "cell_type": "markdown",
   "metadata": {},
   "source": [
    "Duplicates are not found in the dataset"
   ]
  },
  {
   "cell_type": "code",
   "execution_count": 135,
   "metadata": {},
   "outputs": [
    {
     "data": {
      "text/html": [
       "<div>\n",
       "<style scoped>\n",
       "    .dataframe tbody tr th:only-of-type {\n",
       "        vertical-align: middle;\n",
       "    }\n",
       "\n",
       "    .dataframe tbody tr th {\n",
       "        vertical-align: top;\n",
       "    }\n",
       "\n",
       "    .dataframe thead th {\n",
       "        text-align: right;\n",
       "    }\n",
       "</style>\n",
       "<table border=\"1\" class=\"dataframe\">\n",
       "  <thead>\n",
       "    <tr style=\"text-align: right;\">\n",
       "      <th></th>\n",
       "      <th>SNo</th>\n",
       "      <th>ObservationDate</th>\n",
       "      <th>Province/State</th>\n",
       "      <th>Country/Region</th>\n",
       "      <th>Last Update</th>\n",
       "      <th>Confirmed</th>\n",
       "      <th>Deaths</th>\n",
       "      <th>Recovered</th>\n",
       "    </tr>\n",
       "  </thead>\n",
       "  <tbody>\n",
       "    <tr>\n",
       "      <th>0</th>\n",
       "      <td>1</td>\n",
       "      <td>01/22/2020</td>\n",
       "      <td>Anhui</td>\n",
       "      <td>Mainland China</td>\n",
       "      <td>1/22/2020 17:00</td>\n",
       "      <td>1</td>\n",
       "      <td>0</td>\n",
       "      <td>0</td>\n",
       "    </tr>\n",
       "    <tr>\n",
       "      <th>1</th>\n",
       "      <td>2</td>\n",
       "      <td>01/22/2020</td>\n",
       "      <td>Beijing</td>\n",
       "      <td>Mainland China</td>\n",
       "      <td>1/22/2020 17:00</td>\n",
       "      <td>14</td>\n",
       "      <td>0</td>\n",
       "      <td>0</td>\n",
       "    </tr>\n",
       "    <tr>\n",
       "      <th>2</th>\n",
       "      <td>3</td>\n",
       "      <td>01/22/2020</td>\n",
       "      <td>Chongqing</td>\n",
       "      <td>Mainland China</td>\n",
       "      <td>1/22/2020 17:00</td>\n",
       "      <td>6</td>\n",
       "      <td>0</td>\n",
       "      <td>0</td>\n",
       "    </tr>\n",
       "    <tr>\n",
       "      <th>3</th>\n",
       "      <td>4</td>\n",
       "      <td>01/22/2020</td>\n",
       "      <td>Fujian</td>\n",
       "      <td>Mainland China</td>\n",
       "      <td>1/22/2020 17:00</td>\n",
       "      <td>1</td>\n",
       "      <td>0</td>\n",
       "      <td>0</td>\n",
       "    </tr>\n",
       "    <tr>\n",
       "      <th>4</th>\n",
       "      <td>5</td>\n",
       "      <td>01/22/2020</td>\n",
       "      <td>Gansu</td>\n",
       "      <td>Mainland China</td>\n",
       "      <td>1/22/2020 17:00</td>\n",
       "      <td>0</td>\n",
       "      <td>0</td>\n",
       "      <td>0</td>\n",
       "    </tr>\n",
       "    <tr>\n",
       "      <th>...</th>\n",
       "      <td>...</td>\n",
       "      <td>...</td>\n",
       "      <td>...</td>\n",
       "      <td>...</td>\n",
       "      <td>...</td>\n",
       "      <td>...</td>\n",
       "      <td>...</td>\n",
       "      <td>...</td>\n",
       "    </tr>\n",
       "    <tr>\n",
       "      <th>116800</th>\n",
       "      <td>116801</td>\n",
       "      <td>09/23/2020</td>\n",
       "      <td>Zaporizhia Oblast</td>\n",
       "      <td>Ukraine</td>\n",
       "      <td>2020-09-24 04:23:38</td>\n",
       "      <td>3149</td>\n",
       "      <td>49</td>\n",
       "      <td>1158</td>\n",
       "    </tr>\n",
       "    <tr>\n",
       "      <th>116801</th>\n",
       "      <td>116802</td>\n",
       "      <td>09/23/2020</td>\n",
       "      <td>Zeeland</td>\n",
       "      <td>Netherlands</td>\n",
       "      <td>2020-09-24 04:23:38</td>\n",
       "      <td>1270</td>\n",
       "      <td>72</td>\n",
       "      <td>0</td>\n",
       "    </tr>\n",
       "    <tr>\n",
       "      <th>116802</th>\n",
       "      <td>116803</td>\n",
       "      <td>09/23/2020</td>\n",
       "      <td>Zhejiang</td>\n",
       "      <td>Mainland China</td>\n",
       "      <td>2020-09-24 04:23:38</td>\n",
       "      <td>1282</td>\n",
       "      <td>1</td>\n",
       "      <td>1272</td>\n",
       "    </tr>\n",
       "    <tr>\n",
       "      <th>116803</th>\n",
       "      <td>116804</td>\n",
       "      <td>09/23/2020</td>\n",
       "      <td>Zhytomyr Oblast</td>\n",
       "      <td>Ukraine</td>\n",
       "      <td>2020-09-24 04:23:38</td>\n",
       "      <td>5191</td>\n",
       "      <td>92</td>\n",
       "      <td>2853</td>\n",
       "    </tr>\n",
       "    <tr>\n",
       "      <th>116804</th>\n",
       "      <td>116805</td>\n",
       "      <td>09/23/2020</td>\n",
       "      <td>Zuid-Holland</td>\n",
       "      <td>Netherlands</td>\n",
       "      <td>2020-09-24 04:23:38</td>\n",
       "      <td>29513</td>\n",
       "      <td>1372</td>\n",
       "      <td>0</td>\n",
       "    </tr>\n",
       "  </tbody>\n",
       "</table>\n",
       "<p>81452 rows × 8 columns</p>\n",
       "</div>"
      ],
      "text/plain": [
       "           SNo ObservationDate     Province/State  Country/Region  \\\n",
       "0            1      01/22/2020              Anhui  Mainland China   \n",
       "1            2      01/22/2020            Beijing  Mainland China   \n",
       "2            3      01/22/2020          Chongqing  Mainland China   \n",
       "3            4      01/22/2020             Fujian  Mainland China   \n",
       "4            5      01/22/2020              Gansu  Mainland China   \n",
       "...        ...             ...                ...             ...   \n",
       "116800  116801      09/23/2020  Zaporizhia Oblast         Ukraine   \n",
       "116801  116802      09/23/2020            Zeeland     Netherlands   \n",
       "116802  116803      09/23/2020           Zhejiang  Mainland China   \n",
       "116803  116804      09/23/2020    Zhytomyr Oblast         Ukraine   \n",
       "116804  116805      09/23/2020       Zuid-Holland     Netherlands   \n",
       "\n",
       "                Last Update  Confirmed  Deaths  Recovered  \n",
       "0           1/22/2020 17:00          1       0          0  \n",
       "1           1/22/2020 17:00         14       0          0  \n",
       "2           1/22/2020 17:00          6       0          0  \n",
       "3           1/22/2020 17:00          1       0          0  \n",
       "4           1/22/2020 17:00          0       0          0  \n",
       "...                     ...        ...     ...        ...  \n",
       "116800  2020-09-24 04:23:38       3149      49       1158  \n",
       "116801  2020-09-24 04:23:38       1270      72          0  \n",
       "116802  2020-09-24 04:23:38       1282       1       1272  \n",
       "116803  2020-09-24 04:23:38       5191      92       2853  \n",
       "116804  2020-09-24 04:23:38      29513    1372          0  \n",
       "\n",
       "[81452 rows x 8 columns]"
      ]
     },
     "execution_count": 135,
     "metadata": {},
     "output_type": "execute_result"
    }
   ],
   "source": [
    "# number of confirmed,deaths,recovered cases have to be a whole number\n",
    "df['Confirmed'] = df['Confirmed'].astype(int)\n",
    "df['Deaths'] = df['Deaths'].astype(int)\n",
    "df['Recovered'] = df['Recovered'].astype(int)\n",
    "df"
   ]
  },
  {
   "cell_type": "code",
   "execution_count": 184,
   "metadata": {},
   "outputs": [],
   "source": [
    "# rename column name\n",
    "df=pd.DataFrame(cov)\n",
    "df['Country/Region'] = df.rename(columns = {'Country/Region':'Region'}, inplace = True) \n",
    "df['Province/State'] = df.rename(columns = {'Province/State':'Province'}, inplace = True)"
   ]
  },
  {
   "cell_type": "code",
   "execution_count": 185,
   "metadata": {},
   "outputs": [
    {
     "data": {
      "text/html": [
       "<div>\n",
       "<style scoped>\n",
       "    .dataframe tbody tr th:only-of-type {\n",
       "        vertical-align: middle;\n",
       "    }\n",
       "\n",
       "    .dataframe tbody tr th {\n",
       "        vertical-align: top;\n",
       "    }\n",
       "\n",
       "    .dataframe thead th {\n",
       "        text-align: right;\n",
       "    }\n",
       "</style>\n",
       "<table border=\"1\" class=\"dataframe\">\n",
       "  <thead>\n",
       "    <tr style=\"text-align: right;\">\n",
       "      <th></th>\n",
       "      <th>SNo</th>\n",
       "      <th>ObservationDate</th>\n",
       "      <th>Province</th>\n",
       "      <th>Region</th>\n",
       "      <th>Last Update</th>\n",
       "      <th>Confirmed</th>\n",
       "      <th>Deaths</th>\n",
       "      <th>Recovered</th>\n",
       "    </tr>\n",
       "  </thead>\n",
       "  <tbody>\n",
       "    <tr>\n",
       "      <th>0</th>\n",
       "      <td>1</td>\n",
       "      <td>01/22/2020</td>\n",
       "      <td>Anhui</td>\n",
       "      <td>Mainland China</td>\n",
       "      <td>1/22/2020 17:00</td>\n",
       "      <td>1</td>\n",
       "      <td>0</td>\n",
       "      <td>0</td>\n",
       "    </tr>\n",
       "    <tr>\n",
       "      <th>1</th>\n",
       "      <td>2</td>\n",
       "      <td>01/22/2020</td>\n",
       "      <td>Beijing</td>\n",
       "      <td>Mainland China</td>\n",
       "      <td>1/22/2020 17:00</td>\n",
       "      <td>14</td>\n",
       "      <td>0</td>\n",
       "      <td>0</td>\n",
       "    </tr>\n",
       "    <tr>\n",
       "      <th>2</th>\n",
       "      <td>3</td>\n",
       "      <td>01/22/2020</td>\n",
       "      <td>Chongqing</td>\n",
       "      <td>Mainland China</td>\n",
       "      <td>1/22/2020 17:00</td>\n",
       "      <td>6</td>\n",
       "      <td>0</td>\n",
       "      <td>0</td>\n",
       "    </tr>\n",
       "    <tr>\n",
       "      <th>3</th>\n",
       "      <td>4</td>\n",
       "      <td>01/22/2020</td>\n",
       "      <td>Fujian</td>\n",
       "      <td>Mainland China</td>\n",
       "      <td>1/22/2020 17:00</td>\n",
       "      <td>1</td>\n",
       "      <td>0</td>\n",
       "      <td>0</td>\n",
       "    </tr>\n",
       "    <tr>\n",
       "      <th>4</th>\n",
       "      <td>5</td>\n",
       "      <td>01/22/2020</td>\n",
       "      <td>Gansu</td>\n",
       "      <td>Mainland China</td>\n",
       "      <td>1/22/2020 17:00</td>\n",
       "      <td>0</td>\n",
       "      <td>0</td>\n",
       "      <td>0</td>\n",
       "    </tr>\n",
       "    <tr>\n",
       "      <th>...</th>\n",
       "      <td>...</td>\n",
       "      <td>...</td>\n",
       "      <td>...</td>\n",
       "      <td>...</td>\n",
       "      <td>...</td>\n",
       "      <td>...</td>\n",
       "      <td>...</td>\n",
       "      <td>...</td>\n",
       "    </tr>\n",
       "    <tr>\n",
       "      <th>116800</th>\n",
       "      <td>116801</td>\n",
       "      <td>09/23/2020</td>\n",
       "      <td>Zaporizhia Oblast</td>\n",
       "      <td>Ukraine</td>\n",
       "      <td>2020-09-24 04:23:38</td>\n",
       "      <td>3149</td>\n",
       "      <td>49</td>\n",
       "      <td>1158</td>\n",
       "    </tr>\n",
       "    <tr>\n",
       "      <th>116801</th>\n",
       "      <td>116802</td>\n",
       "      <td>09/23/2020</td>\n",
       "      <td>Zeeland</td>\n",
       "      <td>Netherlands</td>\n",
       "      <td>2020-09-24 04:23:38</td>\n",
       "      <td>1270</td>\n",
       "      <td>72</td>\n",
       "      <td>0</td>\n",
       "    </tr>\n",
       "    <tr>\n",
       "      <th>116802</th>\n",
       "      <td>116803</td>\n",
       "      <td>09/23/2020</td>\n",
       "      <td>Zhejiang</td>\n",
       "      <td>Mainland China</td>\n",
       "      <td>2020-09-24 04:23:38</td>\n",
       "      <td>1282</td>\n",
       "      <td>1</td>\n",
       "      <td>1272</td>\n",
       "    </tr>\n",
       "    <tr>\n",
       "      <th>116803</th>\n",
       "      <td>116804</td>\n",
       "      <td>09/23/2020</td>\n",
       "      <td>Zhytomyr Oblast</td>\n",
       "      <td>Ukraine</td>\n",
       "      <td>2020-09-24 04:23:38</td>\n",
       "      <td>5191</td>\n",
       "      <td>92</td>\n",
       "      <td>2853</td>\n",
       "    </tr>\n",
       "    <tr>\n",
       "      <th>116804</th>\n",
       "      <td>116805</td>\n",
       "      <td>09/23/2020</td>\n",
       "      <td>Zuid-Holland</td>\n",
       "      <td>Netherlands</td>\n",
       "      <td>2020-09-24 04:23:38</td>\n",
       "      <td>29513</td>\n",
       "      <td>1372</td>\n",
       "      <td>0</td>\n",
       "    </tr>\n",
       "  </tbody>\n",
       "</table>\n",
       "<p>81452 rows × 8 columns</p>\n",
       "</div>"
      ],
      "text/plain": [
       "           SNo ObservationDate           Province          Region  \\\n",
       "0            1      01/22/2020              Anhui  Mainland China   \n",
       "1            2      01/22/2020            Beijing  Mainland China   \n",
       "2            3      01/22/2020          Chongqing  Mainland China   \n",
       "3            4      01/22/2020             Fujian  Mainland China   \n",
       "4            5      01/22/2020              Gansu  Mainland China   \n",
       "...        ...             ...                ...             ...   \n",
       "116800  116801      09/23/2020  Zaporizhia Oblast         Ukraine   \n",
       "116801  116802      09/23/2020            Zeeland     Netherlands   \n",
       "116802  116803      09/23/2020           Zhejiang  Mainland China   \n",
       "116803  116804      09/23/2020    Zhytomyr Oblast         Ukraine   \n",
       "116804  116805      09/23/2020       Zuid-Holland     Netherlands   \n",
       "\n",
       "                Last Update  Confirmed  Deaths  Recovered  \n",
       "0           1/22/2020 17:00          1       0          0  \n",
       "1           1/22/2020 17:00         14       0          0  \n",
       "2           1/22/2020 17:00          6       0          0  \n",
       "3           1/22/2020 17:00          1       0          0  \n",
       "4           1/22/2020 17:00          0       0          0  \n",
       "...                     ...        ...     ...        ...  \n",
       "116800  2020-09-24 04:23:38       3149      49       1158  \n",
       "116801  2020-09-24 04:23:38       1270      72          0  \n",
       "116802  2020-09-24 04:23:38       1282       1       1272  \n",
       "116803  2020-09-24 04:23:38       5191      92       2853  \n",
       "116804  2020-09-24 04:23:38      29513    1372          0  \n",
       "\n",
       "[81452 rows x 8 columns]"
      ]
     },
     "execution_count": 185,
     "metadata": {},
     "output_type": "execute_result"
    }
   ],
   "source": [
    "# see the changes \n",
    "drop=(['Country/Region', 'Province/State'])\n",
    "df.drop(drop,axis='columns',inplace=True)\n",
    "df"
   ]
  },
  {
   "cell_type": "markdown",
   "metadata": {},
   "source": [
    "## 5. Data visualization "
   ]
  },
  {
   "cell_type": "markdown",
   "metadata": {},
   "source": [
    "In this section, I will respond to the research questions by data visualization"
   ]
  },
  {
   "cell_type": "markdown",
   "metadata": {},
   "source": [
    "### 5.1 Q1: Distribution of daily information about cases of coronavirus by period of time"
   ]
  },
  {
   "cell_type": "code",
   "execution_count": 186,
   "metadata": {},
   "outputs": [
    {
     "data": {
      "text/plain": [
       "month\n",
       "8    17804\n",
       "7    17573\n",
       "6    16278\n",
       "9    13205\n",
       "5     6706\n",
       "4     4173\n",
       "3     3750\n",
       "2     1573\n",
       "1      390\n",
       "Name: SNo, dtype: int64"
      ]
     },
     "execution_count": 186,
     "metadata": {},
     "output_type": "execute_result"
    }
   ],
   "source": [
    "# Changing the datatype of column to datetime\n",
    "df['ObservationDate'] = pd.to_datetime(df['ObservationDate'])\n",
    "# Extracting of month values from the column\n",
    "df['month'] = df['ObservationDate'].dt.month\n",
    "# Getting the number of daily information by the regions in month\n",
    "month_count = df.groupby('month')['SNo'].nunique().sort_values(ascending = False)\n",
    "month_count"
   ]
  },
  {
   "cell_type": "code",
   "execution_count": 187,
   "metadata": {},
   "outputs": [
    {
     "data": {
      "image/png": "[encoded data removed]",
      "text/plain": [
       "<Figure size 504x504 with 1 Axes>"
      ]
     },
     "metadata": {
      "needs_background": "light"
     },
     "output_type": "display_data"
    }
   ],
   "source": [
    "# The barplot of distribution of information about the Covid-19 by month\n",
    "plot.figure(figsize = (7,7))\n",
    "colors=['r','g','b','y']\n",
    "plot.bar(month_count.index,month_count,color = colors)\n",
    "plot.title('Distribution of information about the Covid-19 by month',fontsize = 13)\n",
    "plot.xlabel('The month', fontsize = 13)\n",
    "plot.ylabel('The count', fontsize = 13)\n",
    "plot.show()"
   ]
  },
  {
   "cell_type": "markdown",
   "metadata": {},
   "source": [
    "The 8th month of calendar (August) had the highest distribution of daily cases of coronavirus, while the 1st month (January) had the least distrubution. The distribution has been raising month by month except for September."
   ]
  },
  {
   "cell_type": "markdown",
   "metadata": {},
   "source": [
    "### 5.2 Q2: Distribution of the regions that were mostly affected by covid-19"
   ]
  },
  {
   "cell_type": "code",
   "execution_count": 188,
   "metadata": {},
   "outputs": [
    {
     "data": {
      "text/plain": [
       "0         Mainland China\n",
       "1         Mainland China\n",
       "2         Mainland China\n",
       "3         Mainland China\n",
       "4         Mainland China\n",
       "               ...      \n",
       "116800           Ukraine\n",
       "116801       Netherlands\n",
       "116802    Mainland China\n",
       "116803           Ukraine\n",
       "116804       Netherlands\n",
       "Name: Region, Length: 81452, dtype: object"
      ]
     },
     "execution_count": 188,
     "metadata": {},
     "output_type": "execute_result"
    }
   ],
   "source": [
    "# select Region column\n",
    "country = df[\"Region\"]\n",
    "country"
   ]
  },
  {
   "cell_type": "code",
   "execution_count": 189,
   "metadata": {},
   "outputs": [
    {
     "data": {
      "text/plain": [
       "count     81452\n",
       "unique       30\n",
       "top          US\n",
       "freq      12356\n",
       "Name: Region, dtype: object"
      ]
     },
     "execution_count": 189,
     "metadata": {},
     "output_type": "execute_result"
    }
   ],
   "source": [
    "# describe the column\n",
    "country.describe()"
   ]
  },
  {
   "cell_type": "markdown",
   "metadata": {},
   "source": [
    "There are 81452 values overall for the region names and 30 of them are unique. The top one is the United States, which appears with the frequency of 12356 times."
   ]
  },
  {
   "cell_type": "code",
   "execution_count": 190,
   "metadata": {},
   "outputs": [
    {
     "data": {
      "image/png": "[encoded data removed]",
      "text/plain": [
       "<Figure size 864x360 with 1 Axes>"
      ]
     },
     "metadata": {
      "needs_background": "light"
     },
     "output_type": "display_data"
    }
   ],
   "source": [
    "# histogram of countries in the list and their occurence\n",
    "plot.figure(figsize = (12,5))\n",
    "plot.hist(df[\"Region\"], bins=30, width = 2.0, range=None, align='mid', color = 'darkgreen')\n",
    "plot.xlabel(\"Region\", fontsize=13)\n",
    "plot.xticks(rotation='vertical')\n",
    "plot.ylabel(\"Number of occurences\")\n",
    "plot.title(\"Regions histogram and their occurence\")\n",
    "plot.ylim(0, 13000)\n",
    "plot.grid(True)\n",
    "\n",
    "plot.show()"
   ]
  },
  {
   "cell_type": "markdown",
   "metadata": {},
   "source": [
    "The histogram shows the distribution of occurences per country. The United States has a leading amount with more than 12000 occurences. The data for different countries can be easily obtained from the constructed histogram. "
   ]
  },
  {
   "cell_type": "markdown",
   "metadata": {},
   "source": [
    "### 5.3 Q3: Distribution of the spread of coronavirus infection worldwide"
   ]
  },
  {
   "cell_type": "code",
   "execution_count": 191,
   "metadata": {},
   "outputs": [
    {
     "data": {
      "text/plain": [
       "0        1098\n",
       "1        1095\n",
       "13        526\n",
       "2         424\n",
       "5         382\n",
       "         ... \n",
       "6778        1\n",
       "8357        1\n",
       "14502       1\n",
       "16553       1\n",
       "10725       1\n",
       "Name: Confirmed, Length: 26373, dtype: int64"
      ]
     },
     "execution_count": 191,
     "metadata": {},
     "output_type": "execute_result"
    }
   ],
   "source": [
    "# output the number of confirmed cases \n",
    "confirmed = df[\"Confirmed\"].value_counts()\n",
    "confirmed"
   ]
  },
  {
   "cell_type": "code",
   "execution_count": 192,
   "metadata": {},
   "outputs": [
    {
     "data": {
      "text/plain": [
       "count    26373.000000\n",
       "mean         3.088462\n",
       "std         14.055197\n",
       "min          1.000000\n",
       "25%          1.000000\n",
       "50%          1.000000\n",
       "75%          2.000000\n",
       "max       1098.000000\n",
       "Name: Confirmed, dtype: float64"
      ]
     },
     "execution_count": 192,
     "metadata": {},
     "output_type": "execute_result"
    }
   ],
   "source": [
    "# describe the confirmed column\n",
    "confirmed.describe()"
   ]
  },
  {
   "cell_type": "markdown",
   "metadata": {},
   "source": [
    "The maximum number of confirmed cases is 1098, while the minimum has a value of 1. The mean number of cases per observation date is 3 as shown in the descriptive statistics above."
   ]
  },
  {
   "cell_type": "code",
   "execution_count": 213,
   "metadata": {},
   "outputs": [
    {
     "data": {
      "text/html": [
       "<div>\n",
       "<style scoped>\n",
       "    .dataframe tbody tr th:only-of-type {\n",
       "        vertical-align: middle;\n",
       "    }\n",
       "\n",
       "    .dataframe tbody tr th {\n",
       "        vertical-align: top;\n",
       "    }\n",
       "\n",
       "    .dataframe thead th {\n",
       "        text-align: right;\n",
       "    }\n",
       "</style>\n",
       "<table border=\"1\" class=\"dataframe\">\n",
       "  <thead>\n",
       "    <tr style=\"text-align: right;\">\n",
       "      <th></th>\n",
       "      <th>index</th>\n",
       "      <th>0</th>\n",
       "    </tr>\n",
       "  </thead>\n",
       "  <tbody>\n",
       "    <tr>\n",
       "      <th>0</th>\n",
       "      <td>Confirmed</td>\n",
       "      <td>1588623641</td>\n",
       "    </tr>\n",
       "    <tr>\n",
       "      <th>1</th>\n",
       "      <td>Recovered</td>\n",
       "      <td>907622539</td>\n",
       "    </tr>\n",
       "    <tr>\n",
       "      <th>2</th>\n",
       "      <td>Deaths</td>\n",
       "      <td>65382262</td>\n",
       "    </tr>\n",
       "  </tbody>\n",
       "</table>\n",
       "</div>"
      ],
      "text/plain": [
       "       index           0\n",
       "0  Confirmed  1588623641\n",
       "1  Recovered   907622539\n",
       "2     Deaths    65382262"
      ]
     },
     "execution_count": 213,
     "metadata": {},
     "output_type": "execute_result"
    }
   ],
   "source": [
    "# covid-19 overall cases\n",
    "cases = df[['Confirmed', 'Recovered', 'Deaths']]\n",
    "cases = cases.sum().reset_index() # the total sum\n",
    "cases"
   ]
  },
  {
   "cell_type": "code",
   "execution_count": 214,
   "metadata": {},
   "outputs": [
    {
     "data": {
      "text/plain": [
       "Text(0.5, 1.0, 'The distribution of COVID-19 cases')"
      ]
     },
     "execution_count": 214,
     "metadata": {},
     "output_type": "execute_result"
    },
    {
     "data": {
      "image/png": "[encoded data removed]",
      "text/plain": [
       "<Figure size 1008x504 with 1 Axes>"
      ]
     },
     "metadata": {
      "needs_background": "light"
     },
     "output_type": "display_data"
    }
   ],
   "source": [
    "# covid-19 cases barplot\n",
    "plot.figure(figsize = (14,7))\n",
    "ax = sns.barplot(x='index', y=0, data=cases, palette = 'rainbow')\n",
    "plot.xlabel(xlabel='Cases')\n",
    "plot.ylabel(ylabel='Count')\n",
    "plot.title('The distribution of COVID-19 cases', fontsize = 14)"
   ]
  },
  {
   "cell_type": "code",
   "execution_count": 217,
   "metadata": {},
   "outputs": [
    {
     "data": {
      "text/plain": [
       "US                12356\n",
       "Russia             9545\n",
       "Mainland China     7624\n",
       "Japan              5780\n",
       "Mexico             4064\n",
       "Colombia           3987\n",
       "India              3874\n",
       "Brazil             3448\n",
       "Ukraine            3105\n",
       "Peru               3094\n",
       "Canada             2870\n",
       "Italy              2793\n",
       "Spain              2655\n",
       "UK                 2402\n",
       "Sweden             2331\n",
       "Germany            2265\n",
       "Chile              2159\n",
       "France             1917\n",
       "Australia          1801\n",
       "Netherlands        1648\n",
       "Pakistan            742\n",
       "Denmark             397\n",
       "Macau               246\n",
       "Hong Kong           246\n",
       "Taiwan               49\n",
       "Others               46\n",
       "Israel                5\n",
       "Austria               1\n",
       "Lebanon               1\n",
       "Iraq                  1\n",
       "Name: Region, dtype: int64"
      ]
     },
     "execution_count": 217,
     "metadata": {},
     "output_type": "execute_result"
    }
   ],
   "source": [
    "# no of cases per country\n",
    "covid_case = df['Region'].value_counts()\n",
    "covid_case"
   ]
  },
  {
   "cell_type": "code",
   "execution_count": 218,
   "metadata": {},
   "outputs": [
    {
     "data": {
      "text/plain": [
       "Text(0.5, 1.0, 'The distribution of confirmed cases worldwide')"
      ]
     },
     "execution_count": 218,
     "metadata": {},
     "output_type": "execute_result"
    },
    {
     "data": {
      "image/png": "[encoded data removed]",
      "text/plain": [
       "<Figure size 1080x360 with 1 Axes>"
      ]
     },
     "metadata": {
      "needs_background": "light"
     },
     "output_type": "display_data"
    }
   ],
   "source": [
    "# confirmed cases worldwide\n",
    "plot.figure(figsize = (15,5))\n",
    "covid_case.plot(x='Region', y='Confirmed')\n",
    "plot.xlabel(xlabel='Cases')\n",
    "plot.xticks(rotation='vertical')\n",
    "plot.ylabel(ylabel='Count')\n",
    "plot.title('The distribution of confirmed cases worldwide')"
   ]
  },
  {
   "cell_type": "markdown",
   "metadata": {},
   "source": [
    "The plot above shows the number of confirmed cases of coronavirus. It is clearly seen that US has the leading amount of total cases."
   ]
  },
  {
   "cell_type": "code",
   "execution_count": 219,
   "metadata": {},
   "outputs": [
    {
     "data": {
      "text/plain": [
       "Text(0.5, 1.0, 'The distribution of recovered cases worldwide')"
      ]
     },
     "execution_count": 219,
     "metadata": {},
     "output_type": "execute_result"
    },
    {
     "data": {
      "text/plain": [
       "<Figure size 1080x360 with 0 Axes>"
      ]
     },
     "metadata": {},
     "output_type": "display_data"
    },
    {
     "data": {
      "image/png": "[encoded data removed]",
      "text/plain": [
       "<Figure size 432x288 with 1 Axes>"
      ]
     },
     "metadata": {
      "needs_background": "light"
     },
     "output_type": "display_data"
    },
    {
     "data": {
      "text/plain": [
       "<Figure size 1080x360 with 0 Axes>"
      ]
     },
     "metadata": {},
     "output_type": "display_data"
    },
    {
     "data": {
      "image/png": "[encoded data removed]",
      "text/plain": [
       "<Figure size 432x288 with 1 Axes>"
      ]
     },
     "metadata": {
      "needs_background": "light"
     },
     "output_type": "display_data"
    }
   ],
   "source": [
    "# deaths from covid-19 worldwide\n",
    "plot.figure(figsize = (15,5))\n",
    "df.plot(x='Region', y='Deaths')\n",
    "plot.xlabel(xlabel='Cases')\n",
    "plot.xticks(rotation='vertical')\n",
    "plot.ylabel(ylabel='Count')\n",
    "plot.title('The distribution of deaths worldwide')\n",
    "\n",
    "# recovered cases worldwide \n",
    "plot.figure(figsize = (15,5))\n",
    "df.plot(x='Region', y='Recovered')\n",
    "plot.xlabel(xlabel='Cases')\n",
    "plot.xticks(rotation='vertical')\n",
    "plot.ylabel(ylabel='Count')\n",
    "plot.title('The distribution of recovered cases worldwide')"
   ]
  },
  {
   "cell_type": "markdown",
   "metadata": {},
   "source": [
    "The two plots above show:\n",
    "    1. The distribution of deaths worldwide. It is seen that Italy and Chile both have a high rate of deaths from coronavirus. \n",
    "    2. The distribution of recovered cases. Even though the United States have a high level of confirmed cases, at the same time it also leads in the number of recovered cases.    "
   ]
  },
  {
   "cell_type": "markdown",
   "metadata": {},
   "source": [
    "### 5.4 Q4: Distribution of mortality and survival rates of covid-19 by regions"
   ]
  },
  {
   "cell_type": "code",
   "execution_count": 220,
   "metadata": {},
   "outputs": [
    {
     "data": {
      "text/html": [
       "<div>\n",
       "<style scoped>\n",
       "    .dataframe tbody tr th:only-of-type {\n",
       "        vertical-align: middle;\n",
       "    }\n",
       "\n",
       "    .dataframe tbody tr th {\n",
       "        vertical-align: top;\n",
       "    }\n",
       "\n",
       "    .dataframe thead th {\n",
       "        text-align: right;\n",
       "    }\n",
       "</style>\n",
       "<table border=\"1\" class=\"dataframe\">\n",
       "  <thead>\n",
       "    <tr style=\"text-align: right;\">\n",
       "      <th></th>\n",
       "      <th>Region</th>\n",
       "      <th>Confirmed</th>\n",
       "      <th>Deaths</th>\n",
       "      <th>Recovered</th>\n",
       "      <th>Mortality Rate</th>\n",
       "      <th>Survival Rate</th>\n",
       "    </tr>\n",
       "  </thead>\n",
       "  <tbody>\n",
       "    <tr>\n",
       "      <th>28</th>\n",
       "      <td>US</td>\n",
       "      <td>557588267</td>\n",
       "      <td>21189260</td>\n",
       "      <td>174911575</td>\n",
       "      <td>0.038002</td>\n",
       "      <td>0.313693</td>\n",
       "    </tr>\n",
       "    <tr>\n",
       "      <th>2</th>\n",
       "      <td>Brazil</td>\n",
       "      <td>297340239</td>\n",
       "      <td>10372224</td>\n",
       "      <td>228422161</td>\n",
       "      <td>0.034883</td>\n",
       "      <td>0.768218</td>\n",
       "    </tr>\n",
       "    <tr>\n",
       "      <th>10</th>\n",
       "      <td>India</td>\n",
       "      <td>232665080</td>\n",
       "      <td>4461787</td>\n",
       "      <td>170879012</td>\n",
       "      <td>0.019177</td>\n",
       "      <td>0.734442</td>\n",
       "    </tr>\n",
       "    <tr>\n",
       "      <th>23</th>\n",
       "      <td>Russia</td>\n",
       "      <td>92100432</td>\n",
       "      <td>1489951</td>\n",
       "      <td>67826876</td>\n",
       "      <td>0.016177</td>\n",
       "      <td>0.736445</td>\n",
       "    </tr>\n",
       "    <tr>\n",
       "      <th>22</th>\n",
       "      <td>Peru</td>\n",
       "      <td>51063362</td>\n",
       "      <td>2109366</td>\n",
       "      <td>34984937</td>\n",
       "      <td>0.041309</td>\n",
       "      <td>0.685128</td>\n",
       "    </tr>\n",
       "    <tr>\n",
       "      <th>18</th>\n",
       "      <td>Mexico</td>\n",
       "      <td>46990252</td>\n",
       "      <td>5187951</td>\n",
       "      <td>37632338</td>\n",
       "      <td>0.110405</td>\n",
       "      <td>0.800854</td>\n",
       "    </tr>\n",
       "    <tr>\n",
       "      <th>24</th>\n",
       "      <td>Spain</td>\n",
       "      <td>44040748</td>\n",
       "      <td>3784005</td>\n",
       "      <td>19979553</td>\n",
       "      <td>0.085921</td>\n",
       "      <td>0.453661</td>\n",
       "    </tr>\n",
       "    <tr>\n",
       "      <th>4</th>\n",
       "      <td>Chile</td>\n",
       "      <td>38584161</td>\n",
       "      <td>946923</td>\n",
       "      <td>34432252</td>\n",
       "      <td>0.024542</td>\n",
       "      <td>0.892393</td>\n",
       "    </tr>\n",
       "    <tr>\n",
       "      <th>5</th>\n",
       "      <td>Colombia</td>\n",
       "      <td>38045590</td>\n",
       "      <td>1243064</td>\n",
       "      <td>25624235</td>\n",
       "      <td>0.032673</td>\n",
       "      <td>0.673514</td>\n",
       "    </tr>\n",
       "    <tr>\n",
       "      <th>27</th>\n",
       "      <td>UK</td>\n",
       "      <td>33780049</td>\n",
       "      <td>4586006</td>\n",
       "      <td>220940</td>\n",
       "      <td>0.135761</td>\n",
       "      <td>0.006541</td>\n",
       "    </tr>\n",
       "  </tbody>\n",
       "</table>\n",
       "</div>"
      ],
      "text/plain": [
       "      Region  Confirmed    Deaths  Recovered  Mortality Rate  Survival Rate\n",
       "28        US  557588267  21189260  174911575        0.038002       0.313693\n",
       "2     Brazil  297340239  10372224  228422161        0.034883       0.768218\n",
       "10     India  232665080   4461787  170879012        0.019177       0.734442\n",
       "23    Russia   92100432   1489951   67826876        0.016177       0.736445\n",
       "22      Peru   51063362   2109366   34984937        0.041309       0.685128\n",
       "18    Mexico   46990252   5187951   37632338        0.110405       0.800854\n",
       "24     Spain   44040748   3784005   19979553        0.085921       0.453661\n",
       "4      Chile   38584161    946923   34432252        0.024542       0.892393\n",
       "5   Colombia   38045590   1243064   25624235        0.032673       0.673514\n",
       "27        UK   33780049   4586006     220940        0.135761       0.006541"
      ]
     },
     "execution_count": 220,
     "metadata": {},
     "output_type": "execute_result"
    }
   ],
   "source": [
    "# The sum of the confirmed,recovered and death cases by regions\n",
    "country_df = df.groupby('Region')[['Confirmed','Deaths','Recovered']].sum()\n",
    "country_df = country_df.reset_index()\n",
    "# Mortality rate by coronavirus\n",
    "country_df['Mortality Rate'] = country_df['Deaths']/country_df['Confirmed']\n",
    "\n",
    "# Survival rate by coronavirus\n",
    "country_df['Survival Rate'] = country_df['Recovered']/country_df['Confirmed']\n",
    "\n",
    "# Sort of regions in descending order by confirmed cases \n",
    "country_df = country_df.sort_values(by =['Confirmed'],ascending= False)\n",
    "country_df.head(10)"
   ]
  },
  {
   "cell_type": "code",
   "execution_count": 221,
   "metadata": {},
   "outputs": [
    {
     "data": {
      "text/plain": [
       "<matplotlib.axes._subplots.AxesSubplot at 0x16d35274430>"
      ]
     },
     "execution_count": 221,
     "metadata": {},
     "output_type": "execute_result"
    },
    {
     "data": {
      "image/png": "[encoded data removed]",
      "text/plain": [
       "<Figure size 432x432 with 1 Axes>"
      ]
     },
     "metadata": {
      "needs_background": "light"
     },
     "output_type": "display_data"
    }
   ],
   "source": [
    "# The barplot with the top 10 regions by mortality rate\n",
    "fig, ax = plot.subplots(figsize = (6,6))\n",
    "plot.title('The mortality rate of regions with most cases')\n",
    "sns.barplot(y = country_df['Region'][:10],x = country_df['Mortality Rate'][:10])"
   ]
  },
  {
   "cell_type": "markdown",
   "metadata": {},
   "source": [
    "The leader by mortality rate is UK and after that goes Mexico. "
   ]
  },
  {
   "cell_type": "code",
   "execution_count": 222,
   "metadata": {},
   "outputs": [
    {
     "data": {
      "text/plain": [
       "<matplotlib.axes._subplots.AxesSubplot at 0x16d33391370>"
      ]
     },
     "execution_count": 222,
     "metadata": {},
     "output_type": "execute_result"
    },
    {
     "data": {
      "image/png": "[encoded data removed]",
      "text/plain": [
       "<Figure size 432x432 with 1 Axes>"
      ]
     },
     "metadata": {
      "needs_background": "light"
     },
     "output_type": "display_data"
    }
   ],
   "source": [
    "# The barplot with the top 10 regions by survival rate\n",
    "fig, ax = plot.subplots(figsize = (6,6))\n",
    "plot.title('The survival rate of regions with most cases')\n",
    "sns.barplot(y = country_df['Region'][:10],x = country_df['Survival Rate'][:10])"
   ]
  },
  {
   "cell_type": "markdown",
   "metadata": {},
   "source": [
    "The biggest survival rate can be seen from Chile and the survival rate of UK is very low."
   ]
  },
  {
   "cell_type": "markdown",
   "metadata": {},
   "source": [
    "### 5.5 Q5: The spread of coronavirus by province"
   ]
  },
  {
   "cell_type": "code",
   "execution_count": 224,
   "metadata": {},
   "outputs": [
    {
     "name": "stdout",
     "output_type": "stream",
     "text": [
      "The number of unique provinces in the dataset is 723\n"
     ]
    }
   ],
   "source": [
    "# The number of provinces in the dataset\n",
    "num_of_provinces = len(df.groupby('Province')['Region'].nunique())\n",
    "print('The number of unique provinces in the dataset is ' + str(num_of_provinces))"
   ]
  },
  {
   "cell_type": "code",
   "execution_count": 225,
   "metadata": {},
   "outputs": [
    {
     "data": {
      "text/html": [
       "<div>\n",
       "<style scoped>\n",
       "    .dataframe tbody tr th:only-of-type {\n",
       "        vertical-align: middle;\n",
       "    }\n",
       "\n",
       "    .dataframe tbody tr th {\n",
       "        vertical-align: top;\n",
       "    }\n",
       "\n",
       "    .dataframe thead th {\n",
       "        text-align: right;\n",
       "    }\n",
       "</style>\n",
       "<table border=\"1\" class=\"dataframe\">\n",
       "  <thead>\n",
       "    <tr style=\"text-align: right;\">\n",
       "      <th></th>\n",
       "      <th>Province</th>\n",
       "      <th>Region</th>\n",
       "      <th>Confirmed</th>\n",
       "      <th>Deaths</th>\n",
       "      <th>Recovered</th>\n",
       "      <th>Mortality Rate</th>\n",
       "    </tr>\n",
       "  </thead>\n",
       "  <tbody>\n",
       "    <tr>\n",
       "      <th>432</th>\n",
       "      <td>New York</td>\n",
       "      <td>US</td>\n",
       "      <td>64874086</td>\n",
       "      <td>4970781</td>\n",
       "      <td>0</td>\n",
       "      <td>0.076622</td>\n",
       "    </tr>\n",
       "    <tr>\n",
       "      <th>571</th>\n",
       "      <td>Sao Paulo</td>\n",
       "      <td>Brazil</td>\n",
       "      <td>61027382</td>\n",
       "      <td>2579103</td>\n",
       "      <td>41032384</td>\n",
       "      <td>0.042261</td>\n",
       "    </tr>\n",
       "    <tr>\n",
       "      <th>88</th>\n",
       "      <td>California</td>\n",
       "      <td>US</td>\n",
       "      <td>56105927</td>\n",
       "      <td>1194451</td>\n",
       "      <td>40</td>\n",
       "      <td>0.021289</td>\n",
       "    </tr>\n",
       "    <tr>\n",
       "      <th>365</th>\n",
       "      <td>Maharashtra</td>\n",
       "      <td>India</td>\n",
       "      <td>53940053</td>\n",
       "      <td>1757974</td>\n",
       "      <td>36369938</td>\n",
       "      <td>0.032591</td>\n",
       "    </tr>\n",
       "    <tr>\n",
       "      <th>185</th>\n",
       "      <td>Florida</td>\n",
       "      <td>US</td>\n",
       "      <td>47161074</td>\n",
       "      <td>893489</td>\n",
       "      <td>0</td>\n",
       "      <td>0.018945</td>\n",
       "    </tr>\n",
       "    <tr>\n",
       "      <th>631</th>\n",
       "      <td>Texas</td>\n",
       "      <td>US</td>\n",
       "      <td>47070897</td>\n",
       "      <td>879892</td>\n",
       "      <td>0</td>\n",
       "      <td>0.018693</td>\n",
       "    </tr>\n",
       "    <tr>\n",
       "      <th>623</th>\n",
       "      <td>Tamil Nadu</td>\n",
       "      <td>India</td>\n",
       "      <td>28118938</td>\n",
       "      <td>457240</td>\n",
       "      <td>22809919</td>\n",
       "      <td>0.016261</td>\n",
       "    </tr>\n",
       "    <tr>\n",
       "      <th>429</th>\n",
       "      <td>New Jersey</td>\n",
       "      <td>US</td>\n",
       "      <td>27550042</td>\n",
       "      <td>2146882</td>\n",
       "      <td>2</td>\n",
       "      <td>0.077927</td>\n",
       "    </tr>\n",
       "    <tr>\n",
       "      <th>387</th>\n",
       "      <td>Metropolitana</td>\n",
       "      <td>Chile</td>\n",
       "      <td>27522074</td>\n",
       "      <td>742476</td>\n",
       "      <td>21245751</td>\n",
       "      <td>0.026977</td>\n",
       "    </tr>\n",
       "    <tr>\n",
       "      <th>409</th>\n",
       "      <td>Moscow</td>\n",
       "      <td>Russia</td>\n",
       "      <td>27406778</td>\n",
       "      <td>487441</td>\n",
       "      <td>20206449</td>\n",
       "      <td>0.017785</td>\n",
       "    </tr>\n",
       "  </tbody>\n",
       "</table>\n",
       "</div>"
      ],
      "text/plain": [
       "          Province  Region  Confirmed   Deaths  Recovered  Mortality Rate\n",
       "432       New York      US   64874086  4970781          0        0.076622\n",
       "571      Sao Paulo  Brazil   61027382  2579103   41032384        0.042261\n",
       "88      California      US   56105927  1194451         40        0.021289\n",
       "365    Maharashtra   India   53940053  1757974   36369938        0.032591\n",
       "185        Florida      US   47161074   893489          0        0.018945\n",
       "631          Texas      US   47070897   879892          0        0.018693\n",
       "623     Tamil Nadu   India   28118938   457240   22809919        0.016261\n",
       "429     New Jersey      US   27550042  2146882          2        0.077927\n",
       "387  Metropolitana   Chile   27522074   742476   21245751        0.026977\n",
       "409         Moscow  Russia   27406778   487441   20206449        0.017785"
      ]
     },
     "execution_count": 225,
     "metadata": {},
     "output_type": "execute_result"
    }
   ],
   "source": [
    "# The sum of the confirmed,recovered and death cases by provinces\n",
    "province = df.groupby(['Province','Region'])[['Confirmed','Deaths','Recovered']].sum()\n",
    "province = province.reset_index()\n",
    "province['Mortality Rate'] = province['Deaths']/province['Confirmed']\n",
    "# Sort of regions in descending order by confirmed cases \n",
    "province = province.sort_values(by =['Confirmed','Deaths','Recovered'],ascending= False)\n",
    "province.head(10)"
   ]
  },
  {
   "cell_type": "code",
   "execution_count": 226,
   "metadata": {},
   "outputs": [
    {
     "data": {
      "text/plain": [
       "Unknown                         10\n",
       "Diamond Princess cruise ship     4\n",
       "None                             3\n",
       "Amazonas                         3\n",
       "Recovered                        2\n",
       "                                ..\n",
       "Nebraska                         1\n",
       "Veracruz                         1\n",
       "Mato Grosso                      1\n",
       "Zuid-Holland                     1\n",
       "Toronto, ON                      1\n",
       "Name: Province, Length: 723, dtype: int64"
      ]
     },
     "execution_count": 226,
     "metadata": {},
     "output_type": "execute_result"
    }
   ],
   "source": [
    "province['Province'].value_counts()"
   ]
  },
  {
   "cell_type": "markdown",
   "metadata": {},
   "source": [
    "From the information above, we can see that there are some provinces who have the same name, like Amazonas and Diamond Princess."
   ]
  },
  {
   "cell_type": "code",
   "execution_count": 227,
   "metadata": {},
   "outputs": [
    {
     "data": {
      "image/png": "[encoded data removed]",
      "text/plain": [
       "<Figure size 432x432 with 1 Axes>"
      ]
     },
     "metadata": {
      "needs_background": "light"
     },
     "output_type": "display_data"
    }
   ],
   "source": [
    "fig, ax = plot.subplots(figsize = (6,6))\n",
    "ax.set_title('The number of confirmed cases by provinces(in the power of 7)')\n",
    "ax.set_xlabel('The number of confirmed cases')\n",
    "sns.barplot(x=province['Confirmed'][:10],y=province['Province'][:10])\n",
    "plot.show()"
   ]
  },
  {
   "cell_type": "markdown",
   "metadata": {},
   "source": [
    "The highest number of confirmed cases by province is New York and after that goes Sao Paulo."
   ]
  },
  {
   "cell_type": "code",
   "execution_count": 228,
   "metadata": {},
   "outputs": [
    {
     "data": {
      "text/plain": [
       "<matplotlib.axes._subplots.AxesSubplot at 0x16d3081b670>"
      ]
     },
     "execution_count": 228,
     "metadata": {},
     "output_type": "execute_result"
    },
    {
     "data": {
      "image/png": "[encoded data removed]",
      "text/plain": [
       "<Figure size 432x432 with 1 Axes>"
      ]
     },
     "metadata": {
      "needs_background": "light"
     },
     "output_type": "display_data"
    }
   ],
   "source": [
    "fig, ax = plot.subplots(figsize = (6,6))\n",
    "plot.title('The number of death by covid-19 in provinces(in the power of 6)')\n",
    "plot.xlabel('The number of deaths')\n",
    "sns.barplot(x=province['Deaths'][:10],y=province['Province'][:10])\n"
   ]
  },
  {
   "cell_type": "markdown",
   "metadata": {},
   "source": [
    "The highest number of deaths by covid-19 in provinces is being at New York."
   ]
  },
  {
   "cell_type": "code",
   "execution_count": 229,
   "metadata": {},
   "outputs": [
    {
     "data": {
      "text/plain": [
       "<matplotlib.axes._subplots.AxesSubplot at 0x16d31ea21c0>"
      ]
     },
     "execution_count": 229,
     "metadata": {},
     "output_type": "execute_result"
    },
    {
     "data": {
      "image/png": "[encoded data removed]",
      "text/plain": [
       "<Figure size 432x432 with 1 Axes>"
      ]
     },
     "metadata": {
      "needs_background": "light"
     },
     "output_type": "display_data"
    }
   ],
   "source": [
    "fig, ax = plot.subplots(figsize = (6,6))\n",
    "plot.title('The number of death by covid-19 in provinces(in the power of 6)')\n",
    "plot.xlabel('The mortality rate')\n",
    "sns.barplot(x=province['Mortality Rate'][:10],y=province['Province'][:10])"
   ]
  },
  {
   "cell_type": "markdown",
   "metadata": {},
   "source": [
    "The highest level of mortality rate can be seen in New Jersey and New York, while the mortality rate in New Jersey is a bit smaller than in New York."
   ]
  },
  {
   "cell_type": "markdown",
   "metadata": {},
   "source": [
    "## 6. Conclusion"
   ]
  },
  {
   "cell_type": "markdown",
   "metadata": {},
   "source": [
    "Based on the analysis I have done about the novel covid-19 infection, I can make several conclusions:\n",
    "\n",
    "First, the number of coronavirus infection observations were increasing day by day for the past 8 months (january to august) with the peak number in August. However, the observations got lower in September meaning that the infection had become less severe. \n",
    "\n",
    "Second, there are 30 unique countries in the list. The United States has appeared in the list more than 12 thousand times being the most infected region in the world so far.\n",
    "\n",
    "Third, the spread of coronavirus worldwide is splitted into three categories: confirmed cases, recovered cases, and deaths. Overall, for all the countries presented in the list the number of recovered cases is much more than deaths.\n",
    "\n",
    "Fourth, by looking at the mortality rate we can identify that the highest death rate belongs to the United Kingdom, while the highest survival rate is in Chile.\n",
    "\n",
    "Finally, by analyzing coronavirus spread in different provinces, we end up with the conclusion that New York has the highest number of confirmed cases as well as deaths. It leads us to the obvious conclusion that New York is also top 1 in terms of mortality rate. New Jersey is the second province by covid-19 mortality rate."
   ]
  }
 ],
 "metadata": {
  "kernelspec": {
   "display_name": "Python 3",
   "language": "python",
   "name": "python3"
  },
  "language_info": {
   "codemirror_mode": {
    "name": "ipython",
    "version": 3
   },
   "file_extension": ".py",
   "mimetype": "text/x-python",
   "name": "python",
   "nbconvert_exporter": "python",
   "pygments_lexer": "ipython3",
   "version": "3.8.3"
  }
 },
 "nbformat": 4,
 "nbformat_minor": 4
}
